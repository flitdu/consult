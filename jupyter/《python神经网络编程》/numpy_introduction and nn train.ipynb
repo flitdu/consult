{
 "cells": [
  {
   "cell_type": "markdown",
   "metadata": {},
   "source": [
    "# 目录 <a name='toc'></a>\n",
    "1. [**numpy使用**](#1)\n",
    "2. [**面向对象**](#2)\n",
    "3. [**python设计NN**](#3)\n",
    "4. [**数据集mnist试验**](#4)\n",
    "5. [**测试自己的笔迹**](#5)\n",
    "\n"
   ]
  },
  {
   "cell_type": "markdown",
   "metadata": {},
   "source": [
    "## <font color='red'>1.numpy使用 </font><a name='1'></a>\n",
    "[回到目录](#toc)"
   ]
  },
  {
   "cell_type": "code",
   "execution_count": 46,
   "metadata": {},
   "outputs": [
    {
     "data": {
      "text/plain": [
       "array([[0., 0.],\n",
       "       [0., 0.],\n",
       "       [0., 0.]])"
      ]
     },
     "execution_count": 46,
     "metadata": {},
     "output_type": "execute_result"
    }
   ],
   "source": [
    "# 数组 \n",
    "import numpy as np\n",
    "\n",
    "a = np.zeros([3,2])\n",
    "a"
   ]
  },
  {
   "cell_type": "code",
   "execution_count": 47,
   "metadata": {},
   "outputs": [
    {
     "data": {
      "text/plain": [
       "array([[1., 2.],\n",
       "       [0., 5.],\n",
       "       [0., 9.]])"
      ]
     },
     "execution_count": 47,
     "metadata": {},
     "output_type": "execute_result"
    }
   ],
   "source": [
    "a[0,0] = 1\n",
    "a[0,1] = 2\n",
    "a[1,1] = 5\n",
    "a[2,1] = 9\n",
    "\n",
    "a"
   ]
  },
  {
   "cell_type": "markdown",
   "metadata": {},
   "source": [
    "- 绘制数组"
   ]
  },
  {
   "cell_type": "code",
   "execution_count": 15,
   "metadata": {},
   "outputs": [
    {
     "data": {
      "text/plain": [
       "array([[1., 2.],\n",
       "       [0., 5.],\n",
       "       [0., 9.]])"
      ]
     },
     "execution_count": 15,
     "metadata": {},
     "output_type": "execute_result"
    },
    {
     "data": {
      "image/png": "[encoded data removed]",
      "text/plain": [
       "<Figure size 432x288 with 1 Axes>"
      ]
     },
     "metadata": {
      "needs_background": "light"
     },
     "output_type": "display_data"
    }
   ],
   "source": [
    "import matplotlib.pyplot\n",
    "\n",
    "%matplotlib inline\n",
    "\n",
    "matplotlib.pyplot.imshow(a, interpolation=\"nearest\")\n",
    "a"
   ]
  },
  {
   "cell_type": "markdown",
   "metadata": {},
   "source": [
    "## <font color='red'>2.面向对象 </font><a name='2'></a>\n",
    "[回到目录](#toc)"
   ]
  },
  {
   "cell_type": "code",
   "execution_count": 27,
   "metadata": {},
   "outputs": [
    {
     "name": "stdout",
     "output_type": "stream",
     "text": [
      "woof!\n"
     ]
    }
   ],
   "source": [
    "# 举例，建立Dog 类\n",
    "class Dog:\n",
    "    def bark(self):\n",
    "        print('woof!')\n",
    "\n",
    "doudou = Dog() #创建对象\n",
    "doudou.bark()"
   ]
  },
  {
   "cell_type": "code",
   "execution_count": 37,
   "metadata": {},
   "outputs": [],
   "source": [
    "# 添加数据到类中\n",
    "\n",
    "class Dog:\n",
    "\n",
    "    def __init__(self, petname, temp):\n",
    "        self.name = petname\n",
    "        self.temperature = temp\n",
    "\n",
    "    def status(self):\n",
    "        print(f'dog name is: {self.name}')\n",
    "        print(f'dog temperature is: {self.temperature}')\n",
    "    \n",
    "    def setTemperature(self, temp):\n",
    "        self.temperature = temp\n",
    "        pass\n",
    "        \n",
    "    def bark(self):\n",
    "        print('woof!')\n",
    "        \n"
   ]
  },
  {
   "cell_type": "code",
   "execution_count": 38,
   "metadata": {},
   "outputs": [
    {
     "name": "stdout",
     "output_type": "stream",
     "text": [
      "dog name is: jim\n",
      "dog temperature is: 34\n"
     ]
    }
   ],
   "source": [
    "jim = Dog('jim', 34)\n",
    "jim.status()"
   ]
  },
  {
   "cell_type": "code",
   "execution_count": 43,
   "metadata": {},
   "outputs": [
    {
     "name": "stdout",
     "output_type": "stream",
     "text": [
      "dog name is: jim\n",
      "dog temperature is: 41\n"
     ]
    }
   ],
   "source": [
    "# 改变对象内部的温度记录\n",
    "\n",
    "jim.setTemperature(41)\n",
    "jim.status()"
   ]
  },
  {
   "cell_type": "markdown",
   "metadata": {},
   "source": [
    "## <font color='red'>3. python设计NN </font><a name='3'></a>\n",
    "[回到目录](#toc)"
   ]
  },
  {
   "cell_type": "markdown",
   "metadata": {},
   "source": [
    "## 框架代码\n",
    "\n",
    "包含3个函数：\n",
    "1. 初始化--设定输入层节点，隐藏层节点 ，和输出节点\n",
    "2. 训练--权重优化\n",
    "3. 查询--给定输入，输出结果"
   ]
  },
  {
   "cell_type": "code",
   "execution_count": 50,
   "metadata": {},
   "outputs": [],
   "source": [
    "# 定义NN\n",
    "\n",
    "class NeuralNetwork:\n",
    "\n",
    "    def __init__(self):\n",
    "        pass\n",
    "    \n",
    "    def train(self):\n",
    "        pass\n",
    "    \n",
    "    def query(self):\n",
    "        pass\n",
    "\n",
    "\n",
    "if __name__ == \"__main__\":\n",
    "    pass\n"
   ]
  },
  {
   "cell_type": "code",
   "execution_count": 51,
   "metadata": {},
   "outputs": [],
   "source": [
    "class NeuralNetwork:\n",
    "    # 定义NN\n",
    "\n",
    "    def __init__(self, input_nodes, hidden_nodes, output_nodes, learning_rate):\n",
    "        # 设置输入、隐藏、输出节点数\n",
    "        self.inodes = input_nodes\n",
    "        self.hnodes = hidden_nodes\n",
    "        self.onodes = output_nodes\n",
    "\n",
    "        # 学习率\n",
    "        self.lr = learning_rate\n",
    "        pass\n",
    "\n",
    "    def train(self):\n",
    "        pass\n",
    "\n",
    "    def query(self):\n",
    "        pass\n",
    "\n",
    "\n",
    "if __name__ == \"__main__\":\n",
    "    pass\n",
    "\n",
    "    input_nodes = 3\n",
    "    hidden_nodes = 3\n",
    "    output_nodes = 3\n",
    "\n",
    "    learning_rate = 0.5\n",
    "\n",
    "    # 创建一个神经网络对象\n",
    "    n = NeuralNetwork(input_nodes, hidden_nodes, output_nodes, learning_rate)\n"
   ]
  },
  {
   "cell_type": "markdown",
   "metadata": {},
   "source": [
    "权重"
   ]
  },
  {
   "cell_type": "code",
   "execution_count": 53,
   "metadata": {},
   "outputs": [
    {
     "data": {
      "text/plain": [
       "array([[0.9588889 , 0.42770586, 0.54137763],\n",
       "       [0.8970008 , 0.85150521, 0.50973127]])"
      ]
     },
     "execution_count": 53,
     "metadata": {},
     "output_type": "execute_result"
    }
   ],
   "source": [
    "import numpy as np\n",
    "# np.random.rand(row, column)\n",
    "np.random.rand(2,3)"
   ]
  },
  {
   "cell_type": "code",
   "execution_count": 56,
   "metadata": {},
   "outputs": [
    {
     "data": {
      "text/plain": [
       "array([[ 0.20722441, -0.03163125, -0.3352152 ,  0.18672798],\n",
       "       [-0.37399918,  0.26876714,  0.35676615,  0.48835537],\n",
       "       [-0.27984492,  0.47950632,  0.21544328, -0.40212551]])"
      ]
     },
     "execution_count": 56,
     "metadata": {},
     "output_type": "execute_result"
    }
   ],
   "source": [
    "np.random.rand(3,4)-0.5"
   ]
  },
  {
   "cell_type": "code",
   "execution_count": 58,
   "metadata": {},
   "outputs": [
    {
     "data": {
      "text/plain": [
       "array([[-1.16587026, -3.05299971, -2.29640608],\n",
       "       [-1.06009387,  1.46810514, -1.36865849]])"
      ]
     },
     "execution_count": 58,
     "metadata": {},
     "output_type": "execute_result"
    }
   ],
   "source": [
    "np.random.normal(0 ,2, (2,3)) #  均值与 标准方差"
   ]
  },
  {
   "cell_type": "code",
   "execution_count": null,
   "metadata": {},
   "outputs": [],
   "source": [
    "\n",
    "import numpy as np\n",
    "\n",
    "class NeuralNetwork:\n",
    "    # 定义NN\n",
    "\n",
    "    def __init__(self, input_nodes, hidden_nodes, output_nodes, learning_rate):\n",
    "        # 设置输入、隐藏、输出节点数\n",
    "        self.inodes = input_nodes\n",
    "        self.hnodes = hidden_nodes\n",
    "        self.onodes = output_nodes\n",
    "\n",
    "        # 学习率\n",
    "        self.lr = learning_rate\n",
    "\n",
    "        # 权重矩阵\n",
    "        self.weight_ih = np.random.normal(0, pow(self.hnodes, -0.5), (self.hnodes, self.inodes))\n",
    "        self.weight_ho = np.random.normal(0, pow(self.onodes, -0.5), (self.onodes, self.hnodes))\n",
    "\n",
    "        pass\n",
    "\n",
    "\n",
    "    def train(self):\n",
    "        pass\n",
    "\n",
    "    def query(self):\n",
    "        pass\n",
    "\n",
    "\n",
    "if __name__ == \"__main__\":\n",
    "    pass\n",
    "\n",
    "    input_nodes = 3\n",
    "    hidden_nodes = 3\n",
    "    output_nodes = 3\n",
    "\n",
    "    learning_rate = 0.5\n",
    "\n",
    "    # 创建一个神经网络对象\n",
    "    n = NeuralNetwork(input_nodes, hidden_nodes, output_nodes, learning_rate)\n"
   ]
  },
  {
   "cell_type": "code",
   "execution_count": 61,
   "metadata": {},
   "outputs": [
    {
     "data": {
      "text/plain": [
       "0.5"
      ]
     },
     "execution_count": 61,
     "metadata": {},
     "output_type": "execute_result"
    }
   ],
   "source": [
    "# 导入sigmoid()函数\n",
    "import scipy.special\n",
    "\n",
    "activation_function = lambda x: scipy.special.expit(x)\n",
    "activation_function(0)"
   ]
  },
  {
   "cell_type": "markdown",
   "metadata": {},
   "source": [
    "- 构建查询\n",
    "\n",
    "<img src=\"aa.jpg\" \n",
    "     align=\"left\">"
   ]
  },
  {
   "cell_type": "code",
   "execution_count": 66,
   "metadata": {},
   "outputs": [
    {
     "name": "stdout",
     "output_type": "stream",
     "text": [
      "[[0.52083477]\n",
      " [0.5250118 ]\n",
      " [0.33816641]]\n"
     ]
    }
   ],
   "source": [
    "     \n",
    "import numpy as np\n",
    "import scipy.special\n",
    "\n",
    "class NeuralNetwork:\n",
    "    # 定义NN\n",
    "\n",
    "    def __init__(self, input_nodes, hidden_nodes, output_nodes, learning_rate):\n",
    "        # 设置输入、隐藏、输出节点数\n",
    "        self.inodes = input_nodes\n",
    "        self.hnodes = hidden_nodes\n",
    "        self.onodes = output_nodes\n",
    "\n",
    "        # 学习率\n",
    "        self.lr = learning_rate\n",
    "\n",
    "        # 权重矩阵\n",
    "        self.weight_ih = np.random.normal(0, pow(self.hnodes, -0.5), (self.hnodes, self.inodes))\n",
    "        self.weight_ho = np.random.normal(0, pow(self.onodes, -0.5), (self.onodes, self.hnodes))\n",
    "\n",
    "        # 激活函数\n",
    "        self.activation_function = lambda x: scipy.special.expit(x)\n",
    "        pass\n",
    "\n",
    "\n",
    "    def train(self):\n",
    "        pass\n",
    "\n",
    "    def query(self, inputs_list):\n",
    "        # 输入转化为二维数组\n",
    "        inputs = np.array(inputs_list, ndmin=2).T\n",
    "\n",
    "        hidden_inputs = np.dot(self.weight_ih, inputs)\n",
    "        hidden_outputs = self.activation_function(hidden_inputs)\n",
    "\n",
    "        final_inputs = np.dot(self.weight_ho, hidden_outputs)\n",
    "        final_outputs = self.activation_function(final_inputs)\n",
    "\n",
    "        return final_outputs\n",
    "        pass\n",
    "\n",
    "\n",
    "if __name__ == \"__main__\":\n",
    "    pass\n",
    "\n",
    "    input_nodes = 3\n",
    "    hidden_nodes = 3\n",
    "    output_nodes = 3\n",
    "\n",
    "    learning_rate = 0.5\n",
    "\n",
    "    # 创建一个神经网络对象\n",
    "    n = NeuralNetwork(input_nodes, hidden_nodes, output_nodes, learning_rate)\n",
    "\n",
    "    print(n.query([1, 0.5, 3]))\n"
   ]
  },
  {
   "cell_type": "markdown",
   "metadata": {},
   "source": [
    "# 完整代码\n",
    "参考推导：《一文弄懂神经网络中的反向传播法——BackPropagation》\n",
    "https://www.cnblogs.com/charlotte77/p/5629865.html\n",
    "\n",
    "原书参考：https://github.com/makeyourownneuralnetwork/makeyourownneuralnetwork/blob/master/part2_neural_network.ipynb\n"
   ]
  },
  {
   "cell_type": "code",
   "execution_count": 70,
   "metadata": {},
   "outputs": [
    {
     "name": "stdout",
     "output_type": "stream",
     "text": [
      "隐藏层输入：[[0.3775]\n",
      " [0.3925]]\n",
      "隐藏层输出：[[0.59326999]\n",
      " [0.59688438]]\n",
      "最终输出：[[0.75136507]\n",
      " [0.77292847]]\n",
      "w_ho偏导：[[ 0.08216704  0.08266763]\n",
      " [-0.02260254 -0.02274024]]\n",
      "更新后的w_ho[[0.35891648 0.40866619]\n",
      " [0.51130127 0.56137012]]\n",
      "更新后的w_ih[[0.14886582 0.19773165]\n",
      " [0.24871137 0.29742273]]\n"
     ]
    }
   ],
   "source": [
    "import numpy as np\n",
    "import scipy.special\n",
    "\n",
    "class NeuralNetwork:\n",
    "    # 定义NN\n",
    "\n",
    "    def __init__(self, input_nodes, hidden_nodes, output_nodes, learning_rate):\n",
    "        # 设置输入、隐藏、输出节点数\n",
    "        self.inodes = input_nodes\n",
    "        self.hnodes = hidden_nodes\n",
    "        self.onodes = output_nodes\n",
    "\n",
    "        # 学习率\n",
    "        self.lr = learning_rate\n",
    "\n",
    "        # 权重矩阵\n",
    "        self.weight_ih = np.random.normal(0, pow(self.hnodes, -0.5), (self.hnodes, self.inodes))\n",
    "        self.weight_ho = np.random.normal(0, pow(self.onodes, -0.5), (self.onodes, self.hnodes))\n",
    "        self.b_ih = 0.35 # 偏置\n",
    "        self.b_ho = 0.6 # 偏置\n",
    "\n",
    "        self.weight_ih[0,0] = 0.15\n",
    "        self.weight_ih[0,1] = 0.2\n",
    "        self.weight_ih[1,0] = .25\n",
    "        self.weight_ih[1,1] = 0.3\n",
    "\n",
    "        self.weight_ho[0, 0] = 0.4\n",
    "        self.weight_ho[0, 1] = 0.45\n",
    "        self.weight_ho[1, 0] = .5\n",
    "        self.weight_ho[1, 1] = 0.55\n",
    "\n",
    "        # 激活函数\n",
    "        self.activation_function = lambda x: scipy.special.expit(x)\n",
    "        pass\n",
    "\n",
    "\n",
    "    def train(self, inputs_list, targets_lists):\n",
    "        # 训练NN\n",
    "        inputs = np.array(inputs_list, ndmin=2).T\n",
    "        hidden_inputs = np.dot(self.weight_ih, inputs) + self.b_ih\n",
    "        hidden_outputs = self.activation_function(hidden_inputs)\n",
    "\n",
    "        final_outputs = self.query(inputs_list)\n",
    "        targets = np.array(targets_lists, ndmin=2).T\n",
    "\n",
    "        # 计算误差对W偏导数\n",
    "        output_errors = final_outputs - targets\n",
    "        hidden_errors = np.dot(self.weight_ho.T, output_errors)\n",
    "\n",
    "        partial_who = np.dot((output_errors * final_outputs * (1.0 - final_outputs)),\n",
    "                             np.transpose(hidden_outputs))\n",
    "        print(f'w_ho偏导：{partial_who}')\n",
    "\n",
    "        # 更新w_ho   Δw = α * ∂E/∂w\n",
    "        self.weight_ho -= self.lr * partial_who\n",
    "        print(f'更新后的w_ho{self.weight_ho}')\n",
    "        # 更新w_ih   Δw = α * ∂E/∂w\n",
    "        partial_wih = np.dot((hidden_errors * hidden_outputs * (1.0 - hidden_outputs)),\n",
    "                             np.transpose(inputs))\n",
    "        self.weight_ih -= self.lr * partial_wih\n",
    "        print(f'更新后的w_ih{self.weight_ih}')\n",
    "\n",
    "\n",
    "\n",
    "        pass\n",
    "\n",
    "\n",
    "    def query(self, inputs_list):\n",
    "        # 输入转化为二维数组\n",
    "        inputs = np.array(inputs_list, ndmin=2).T\n",
    "\n",
    "        hidden_inputs = np.dot(self.weight_ih, inputs) + self.b_ih\n",
    "        print(f'隐藏层输入：{hidden_inputs}')\n",
    "        hidden_outputs = self.activation_function(hidden_inputs)\n",
    "        print(f'隐藏层输出：{hidden_outputs}')\n",
    "\n",
    "        final_inputs = np.dot(self.weight_ho, hidden_outputs) + self.b_ho\n",
    "        final_outputs = self.activation_function(final_inputs)\n",
    "        print(f'最终输出：{final_outputs}')\n",
    "\n",
    "\n",
    "        return final_outputs\n",
    "        pass\n",
    "\n",
    "\n",
    "if __name__ == \"__main__\":\n",
    "    pass\n",
    "\n",
    "    input_nodes = 2\n",
    "    hidden_nodes = 2\n",
    "    output_nodes = 2\n",
    "\n",
    "    learning_rate = 0.5\n",
    "\n",
    "    # 创建一个神经网络对象\n",
    "    n = NeuralNetwork(input_nodes, hidden_nodes, output_nodes, learning_rate)\n",
    "\n",
    "    # print(n.query([0.05, 0.1]))\n",
    "    n.train([0.05, 0.1], [0.01, 0.99])\n",
    "\n"
   ]
  },
  {
   "cell_type": "markdown",
   "metadata": {},
   "source": [
    "## <font color='red'>4. 数据集mnist试验 </font><a name='4'></a>\n",
    "[回到目录](#toc)"
   ]
  },
  {
   "cell_type": "markdown",
   "metadata": {},
   "source": [
    "# mnist 数据集\n",
    "\n",
    "<img src=\"mnist.png\" \n",
    "     align=\"left\">"
   ]
  },
  {
   "cell_type": "code",
   "execution_count": 83,
   "metadata": {},
   "outputs": [
    {
     "data": {
      "text/plain": [
       "133"
      ]
     },
     "execution_count": 83,
     "metadata": {},
     "output_type": "execute_result"
    }
   ],
   "source": [
    "# 先打开一个小点的文件\n",
    "\n",
    "# load the mnist test data CSV file into a list\n",
    "data_file = open(r\"../data/mnist_dataset_csv/mnist_train100.csv\", 'r')\n",
    "data_list = data_file.readlines()\n",
    "data_file.close()\n",
    "\n",
    "len(data_list)"
   ]
  },
  {
   "cell_type": "code",
   "execution_count": 85,
   "metadata": {},
   "outputs": [
    {
     "data": {
      "text/plain": [
       "'5,0,0,0,0,0,0,0,0,0,0,0,0,0,0,0,0,0,0,0,0,0,0,0,0,0,0,0,0,0,0,0,0,0,0,0,0,0,0,0,0,0,0,0,0,0,0,0,0,0,0,0,0,0,0,0,0,0,0,0,0,0,0,0,0,0,0,0,0,0,0,0,0,0,0,0,0,0,0,0,0,0,0,0,0,0,0,0,0,0,0,0,0,0,0,0,0,0,0,0,0,0,0,0,0,0,0,0,0,0,0,0,0,0,0,0,0,0,0,0,0,0,0,0,0,0,0,0,0,0,0,0,0,0,0,0,0,0,0,0,0,0,0,0,0,0,0,0,0,0,0,0,0,3,18,18,18,126,136,175,26,166,255,247,127,0,0,0,0,0,0,0,0,0,0,0,0,30,36,94,154,170,253,253,253,253,253,225,172,253,242,195,64,0,0,0,0,0,0,0,0,0,0,0,49,238,253,253,253,253,253,253,253,253,251,93,82,82,56,39,0,0,0,0,0,0,0,0,0,0,0,0,18,219,253,253,253,253,253,198,182,247,241,0,0,0,0,0,0,0,0,0,0,0,0,0,0,0,0,0,0,80,156,107,253,253,205,11,0,43,154,0,0,0,0,0,0,0,0,0,0,0,0,0,0,0,0,0,0,0,14,1,154,253,90,0,0,0,0,0,0,0,0,0,0,0,0,0,0,0,0,0,0,0,0,0,0,0,0,0,139,253,190,2,0,0,0,0,0,0,0,0,0,0,0,0,0,0,0,0,0,0,0,0,0,0,0,0,11,190,253,70,0,0,0,0,0,0,0,0,0,0,0,0,0,0,0,0,0,0,0,0,0,0,0,0,0,35,241,225,160,108,1,0,0,0,0,0,0,0,0,0,0,0,0,0,0,0,0,0,0,0,0,0,0,0,81,240,253,253,119,25,0,0,0,0,0,0,0,0,0,0,0,0,0,0,0,0,0,0,0,0,0,0,0,45,186,253,253,150,27,0,0,0,0,0,0,0,0,0,0,0,0,0,0,0,0,0,0,0,0,0,0,0,16,93,252,253,187,0,0,0,0,0,0,0,0,0,0,0,0,0,0,0,0,0,0,0,0,0,0,0,0,0,249,253,249,64,0,0,0,0,0,0,0,0,0,0,0,0,0,0,0,0,0,0,0,0,0,46,130,183,253,253,207,2,0,0,0,0,0,0,0,0,0,0,0,0,0,0,0,0,0,0,0,39,148,229,253,253,253,250,182,0,0,0,0,0,0,0,0,0,0,0,0,0,0,0,0,0,0,24,114,221,253,253,253,253,201,78,0,0,0,0,0,0,0,0,0,0,0,0,0,0,0,0,0,23,66,213,253,253,253,253,198,81,2,0,0,0,0,0,0,0,0,0,0,0,0,0,0,0,0,18,171,219,253,253,253,253,195,80,9,0,0,0,0,0,0,0,0,0,0,0,0,0,0,0,0,55,172,226,253,253,253,253,244,133,11,0,0,0,0,0,0,0,0,0,0,0,0,0,0,0,0,0,0,136,253,253,253,212,135,132,16,0,0,0,0,0,0,0,0,0,0,0,0,0,0,0,0,0,0,0,0,0,0,0,0,0,0,0,0,0,0,0,0,0,0,0,0,0,0,0,0,0,0,0,0,0,0,0,0,0,0,0,0,0,0,0,0,0,0,0,0,0,0,0,0,0,0,0,0,0,0,0,0,0,0,0,0,0,0,0,0,0,0,0,0,0,0,0,0,0,0,0,0,0,0,0,0,0,0,0,0\\n'"
      ]
     },
     "execution_count": 85,
     "metadata": {},
     "output_type": "execute_result"
    }
   ],
   "source": [
    "data_list[0]"
   ]
  },
  {
   "cell_type": "code",
   "execution_count": 93,
   "metadata": {},
   "outputs": [
    {
     "data": {
      "text/plain": [
       "<matplotlib.image.AxesImage at 0x11f96c150>"
      ]
     },
     "execution_count": 93,
     "metadata": {},
     "output_type": "execute_result"
    },
    {
     "data": {
      "image/png": "[encoded data removed]",
      "text/plain": [
       "<Figure size 432x288 with 1 Axes>"
      ]
     },
     "metadata": {
      "needs_background": "light"
     },
     "output_type": "display_data"
    }
   ],
   "source": [
    "\n",
    "import numpy\n",
    "import matplotlib.pyplot\n",
    "%matplotlib inline\n",
    "\n",
    "# take the data from a record, rearrange it into a 28*28 array and plot it as an image\n",
    "all_values = data_list[0].split(',')\n",
    "image_array = numpy.asfarray(all_values[1:]).reshape((28,28))\n",
    "matplotlib.pyplot.imshow(image_array, cmap='Greys', interpolation='None')"
   ]
  },
  {
   "cell_type": "code",
   "execution_count": 96,
   "metadata": {},
   "outputs": [
    {
     "name": "stdout",
     "output_type": "stream",
     "text": [
      "[0.01       0.01       0.01       0.01       0.01       0.01\n",
      " 0.01       0.01       0.01       0.01       0.01       0.01\n",
      " 0.01       0.01       0.01       0.01       0.01       0.01\n",
      " 0.01       0.01       0.01       0.01       0.01       0.01\n",
      " 0.01       0.01       0.01       0.01       0.01       0.01\n",
      " 0.01       0.01       0.01       0.01       0.01       0.01\n",
      " 0.01       0.01       0.01       0.01       0.01       0.01\n",
      " 0.01       0.01       0.01       0.01       0.01       0.01\n",
      " 0.01       0.01       0.01       0.01       0.01       0.01\n",
      " 0.01       0.01       0.01       0.01       0.01       0.01\n",
      " 0.01       0.01       0.01       0.01       0.01       0.01\n",
      " 0.01       0.01       0.01       0.01       0.01       0.01\n",
      " 0.01       0.01       0.01       0.01       0.01       0.01\n",
      " 0.01       0.01       0.01       0.01       0.01       0.01\n",
      " 0.01       0.01       0.01       0.01       0.01       0.01\n",
      " 0.01       0.01       0.01       0.01       0.01       0.01\n",
      " 0.01       0.01       0.01       0.01       0.01       0.01\n",
      " 0.01       0.01       0.01       0.01       0.01       0.01\n",
      " 0.01       0.01       0.01       0.01       0.01       0.01\n",
      " 0.01       0.01       0.01       0.01       0.01       0.01\n",
      " 0.01       0.01       0.01       0.01       0.01       0.01\n",
      " 0.01       0.01       0.01       0.01       0.01       0.01\n",
      " 0.01       0.01       0.01       0.01       0.01       0.01\n",
      " 0.01       0.01       0.01       0.01       0.01       0.01\n",
      " 0.01       0.01       0.01       0.01       0.01       0.01\n",
      " 0.01       0.01       0.02164706 0.07988235 0.07988235 0.07988235\n",
      " 0.49917647 0.538      0.68941176 0.11094118 0.65447059 1.\n",
      " 0.96894118 0.50305882 0.01       0.01       0.01       0.01\n",
      " 0.01       0.01       0.01       0.01       0.01       0.01\n",
      " 0.01       0.01       0.12647059 0.14976471 0.37494118 0.60788235\n",
      " 0.67       0.99223529 0.99223529 0.99223529 0.99223529 0.99223529\n",
      " 0.88352941 0.67776471 0.99223529 0.94952941 0.76705882 0.25847059\n",
      " 0.01       0.01       0.01       0.01       0.01       0.01\n",
      " 0.01       0.01       0.01       0.01       0.01       0.20023529\n",
      " 0.934      0.99223529 0.99223529 0.99223529 0.99223529 0.99223529\n",
      " 0.99223529 0.99223529 0.99223529 0.98447059 0.37105882 0.32835294\n",
      " 0.32835294 0.22741176 0.16141176 0.01       0.01       0.01\n",
      " 0.01       0.01       0.01       0.01       0.01       0.01\n",
      " 0.01       0.01       0.01       0.07988235 0.86023529 0.99223529\n",
      " 0.99223529 0.99223529 0.99223529 0.99223529 0.77870588 0.71658824\n",
      " 0.96894118 0.94564706 0.01       0.01       0.01       0.01\n",
      " 0.01       0.01       0.01       0.01       0.01       0.01\n",
      " 0.01       0.01       0.01       0.01       0.01       0.01\n",
      " 0.01       0.01       0.32058824 0.61564706 0.42541176 0.99223529\n",
      " 0.99223529 0.80588235 0.05270588 0.01       0.17694118 0.60788235\n",
      " 0.01       0.01       0.01       0.01       0.01       0.01\n",
      " 0.01       0.01       0.01       0.01       0.01       0.01\n",
      " 0.01       0.01       0.01       0.01       0.01       0.01\n",
      " 0.01       0.06435294 0.01388235 0.60788235 0.99223529 0.35941176\n",
      " 0.01       0.01       0.01       0.01       0.01       0.01\n",
      " 0.01       0.01       0.01       0.01       0.01       0.01\n",
      " 0.01       0.01       0.01       0.01       0.01       0.01\n",
      " 0.01       0.01       0.01       0.01       0.01       0.01\n",
      " 0.01       0.54964706 0.99223529 0.74764706 0.01776471 0.01\n",
      " 0.01       0.01       0.01       0.01       0.01       0.01\n",
      " 0.01       0.01       0.01       0.01       0.01       0.01\n",
      " 0.01       0.01       0.01       0.01       0.01       0.01\n",
      " 0.01       0.01       0.01       0.01       0.01       0.05270588\n",
      " 0.74764706 0.99223529 0.28176471 0.01       0.01       0.01\n",
      " 0.01       0.01       0.01       0.01       0.01       0.01\n",
      " 0.01       0.01       0.01       0.01       0.01       0.01\n",
      " 0.01       0.01       0.01       0.01       0.01       0.01\n",
      " 0.01       0.01       0.01       0.01       0.14588235 0.94564706\n",
      " 0.88352941 0.63117647 0.42929412 0.01388235 0.01       0.01\n",
      " 0.01       0.01       0.01       0.01       0.01       0.01\n",
      " 0.01       0.01       0.01       0.01       0.01       0.01\n",
      " 0.01       0.01       0.01       0.01       0.01       0.01\n",
      " 0.01       0.01       0.01       0.32447059 0.94176471 0.99223529\n",
      " 0.99223529 0.472      0.10705882 0.01       0.01       0.01\n",
      " 0.01       0.01       0.01       0.01       0.01       0.01\n",
      " 0.01       0.01       0.01       0.01       0.01       0.01\n",
      " 0.01       0.01       0.01       0.01       0.01       0.01\n",
      " 0.01       0.01       0.18470588 0.73211765 0.99223529 0.99223529\n",
      " 0.59235294 0.11482353 0.01       0.01       0.01       0.01\n",
      " 0.01       0.01       0.01       0.01       0.01       0.01\n",
      " 0.01       0.01       0.01       0.01       0.01       0.01\n",
      " 0.01       0.01       0.01       0.01       0.01       0.01\n",
      " 0.01       0.07211765 0.37105882 0.98835294 0.99223529 0.736\n",
      " 0.01       0.01       0.01       0.01       0.01       0.01\n",
      " 0.01       0.01       0.01       0.01       0.01       0.01\n",
      " 0.01       0.01       0.01       0.01       0.01       0.01\n",
      " 0.01       0.01       0.01       0.01       0.01       0.01\n",
      " 0.01       0.97670588 0.99223529 0.97670588 0.25847059 0.01\n",
      " 0.01       0.01       0.01       0.01       0.01       0.01\n",
      " 0.01       0.01       0.01       0.01       0.01       0.01\n",
      " 0.01       0.01       0.01       0.01       0.01       0.01\n",
      " 0.01       0.01       0.18858824 0.51470588 0.72047059 0.99223529\n",
      " 0.99223529 0.81364706 0.01776471 0.01       0.01       0.01\n",
      " 0.01       0.01       0.01       0.01       0.01       0.01\n",
      " 0.01       0.01       0.01       0.01       0.01       0.01\n",
      " 0.01       0.01       0.01       0.01       0.16141176 0.58458824\n",
      " 0.89905882 0.99223529 0.99223529 0.99223529 0.98058824 0.71658824\n",
      " 0.01       0.01       0.01       0.01       0.01       0.01\n",
      " 0.01       0.01       0.01       0.01       0.01       0.01\n",
      " 0.01       0.01       0.01       0.01       0.01       0.01\n",
      " 0.10317647 0.45258824 0.868      0.99223529 0.99223529 0.99223529\n",
      " 0.99223529 0.79035294 0.31282353 0.01       0.01       0.01\n",
      " 0.01       0.01       0.01       0.01       0.01       0.01\n",
      " 0.01       0.01       0.01       0.01       0.01       0.01\n",
      " 0.01       0.01       0.09929412 0.26623529 0.83694118 0.99223529\n",
      " 0.99223529 0.99223529 0.99223529 0.77870588 0.32447059 0.01776471\n",
      " 0.01       0.01       0.01       0.01       0.01       0.01\n",
      " 0.01       0.01       0.01       0.01       0.01       0.01\n",
      " 0.01       0.01       0.01       0.01       0.07988235 0.67388235\n",
      " 0.86023529 0.99223529 0.99223529 0.99223529 0.99223529 0.76705882\n",
      " 0.32058824 0.04494118 0.01       0.01       0.01       0.01\n",
      " 0.01       0.01       0.01       0.01       0.01       0.01\n",
      " 0.01       0.01       0.01       0.01       0.01       0.01\n",
      " 0.22352941 0.67776471 0.88741176 0.99223529 0.99223529 0.99223529\n",
      " 0.99223529 0.95729412 0.52635294 0.05270588 0.01       0.01\n",
      " 0.01       0.01       0.01       0.01       0.01       0.01\n",
      " 0.01       0.01       0.01       0.01       0.01       0.01\n",
      " 0.01       0.01       0.01       0.01       0.538      0.99223529\n",
      " 0.99223529 0.99223529 0.83305882 0.53411765 0.52247059 0.07211765\n",
      " 0.01       0.01       0.01       0.01       0.01       0.01\n",
      " 0.01       0.01       0.01       0.01       0.01       0.01\n",
      " 0.01       0.01       0.01       0.01       0.01       0.01\n",
      " 0.01       0.01       0.01       0.01       0.01       0.01\n",
      " 0.01       0.01       0.01       0.01       0.01       0.01\n",
      " 0.01       0.01       0.01       0.01       0.01       0.01\n",
      " 0.01       0.01       0.01       0.01       0.01       0.01\n",
      " 0.01       0.01       0.01       0.01       0.01       0.01\n",
      " 0.01       0.01       0.01       0.01       0.01       0.01\n",
      " 0.01       0.01       0.01       0.01       0.01       0.01\n",
      " 0.01       0.01       0.01       0.01       0.01       0.01\n",
      " 0.01       0.01       0.01       0.01       0.01       0.01\n",
      " 0.01       0.01       0.01       0.01       0.01       0.01\n",
      " 0.01       0.01       0.01       0.01       0.01       0.01\n",
      " 0.01       0.01       0.01       0.01       0.01       0.01\n",
      " 0.01       0.01       0.01       0.01       0.01       0.01\n",
      " 0.01       0.01       0.01       0.01      ] 784\n"
     ]
    }
   ],
   "source": [
    "# 缩放范围\n",
    "# scale input to range 0.01 to 1.00\n",
    "scaled_input = (numpy.asfarray(all_values[1:]) / 255.0 * 0.99) + 0.01\n",
    "print(scaled_input, len(scaled_input))"
   ]
  },
  {
   "cell_type": "code",
   "execution_count": 91,
   "metadata": {},
   "outputs": [
    {
     "data": {
      "text/plain": [
       "array([0.01, 0.01, 0.01, 0.01, 0.01, 0.99, 0.01, 0.01, 0.01, 0.01])"
      ]
     },
     "execution_count": 91,
     "metadata": {},
     "output_type": "execute_result"
    }
   ],
   "source": [
    "# 设置目标矩阵\n",
    "# 不采用纯粹的[0 0 0 1 0],这回导致大的权重和饱和网络\n",
    "onodes = 10\n",
    "targets = numpy.zeros(onodes) + 0.01\n",
    "targets[int(all_values[0])] = 0.99\n",
    "targets"
   ]
  },
  {
   "cell_type": "markdown",
   "metadata": {},
   "source": [
    "# 小样本训练"
   ]
  },
  {
   "cell_type": "code",
   "execution_count": 168,
   "metadata": {},
   "outputs": [],
   "source": [
    "\n",
    "# -*- coding: utf-8 -*-\n",
    "\"\"\"\n",
    "@Time : 2020/5/31 11:20 下午\n",
    "@Author : Dufy\n",
    "@Email : 813540660@qq.com\n",
    "@File : scratch.py\n",
    "@Software: PyCharm \n",
    "Description :\n",
    "1) 退到参考https://www.cnblogs.com/charlotte77/p/5629865.html\n",
    "2)       \n",
    "\"\"\"\n",
    "\n",
    "import numpy as np\n",
    "import scipy.special\n",
    "\n",
    "class NeuralNetwork:\n",
    "    # 定义NN\n",
    "\n",
    "    def __init__(self, input_nodes, hidden_nodes, output_nodes, learning_rate):\n",
    "        # 设置输入、隐藏、输出节点数\n",
    "        self.inodes = input_nodes\n",
    "        self.hnodes = hidden_nodes\n",
    "        self.onodes = output_nodes\n",
    "\n",
    "        # 学习率\n",
    "        self.lr = learning_rate\n",
    "\n",
    "        # 权重矩阵\n",
    "        self.weight_ih = np.random.normal(0, pow(self.hnodes, -0.5), (self.hnodes, self.inodes))\n",
    "        self.weight_ho = np.random.normal(0, pow(self.onodes, -0.5), (self.onodes, self.hnodes))\n",
    "        self.b_ih = 0.0 # 偏置\n",
    "        self.b_ho = 0.0 # 偏置\n",
    "\n",
    "        self.weight_ih[0,0] = 0.15\n",
    "        self.weight_ih[0,1] = 0.2\n",
    "        self.weight_ih[1,0] = .25\n",
    "        self.weight_ih[1,1] = 0.3\n",
    "\n",
    "        self.weight_ho[0, 0] = 0.4\n",
    "        self.weight_ho[0, 1] = 0.45\n",
    "        self.weight_ho[1, 0] = .5\n",
    "        self.weight_ho[1, 1] = 0.55\n",
    "\n",
    "        # 激活函数\n",
    "        self.activation_function = lambda x: scipy.special.expit(x)\n",
    "        pass\n",
    "\n",
    "\n",
    "    def train(self, inputs_list, targets_lists):\n",
    "        # 训练NN\n",
    "        inputs = np.array(inputs_list, ndmin=2).T\n",
    "        hidden_inputs = np.dot(self.weight_ih, inputs) + self.b_ih\n",
    "        hidden_outputs = self.activation_function(hidden_inputs)\n",
    "\n",
    "        final_outputs = self.query(inputs_list)\n",
    "        targets = np.array(targets_lists, ndmin=2).T\n",
    "\n",
    "        # 计算误差对W偏导数\n",
    "        output_errors = final_outputs - targets\n",
    "        hidden_errors = np.dot(self.weight_ho.T, output_errors)\n",
    "\n",
    "        partial_who = np.dot((output_errors * final_outputs * (1.0 - final_outputs)),\n",
    "                             np.transpose(hidden_outputs))\n",
    "        # print(f'w_ho偏导：{partial_who}')\n",
    "\n",
    "        # 更新w_ho   Δw = α * ∂E/∂w\n",
    "        self.weight_ho -= self.lr * partial_who\n",
    "#         print(f'更新后的w_ho{self.weight_ho}')\n",
    "        # 更新w_ih   Δw = α * ∂E/∂w\n",
    "        partial_wih = np.dot((hidden_errors * hidden_outputs * (1.0 - hidden_outputs)),\n",
    "                             np.transpose(inputs))\n",
    "        self.weight_ih -= self.lr * partial_wih\n",
    "#         print(f'更新后的w_ih{self.weight_ih}')\n",
    "\n",
    "\n",
    "        pass\n",
    "\n",
    "\n",
    "    def query(self, inputs_list):\n",
    "        # 输入转化为二维数组\n",
    "        inputs = np.array(inputs_list, ndmin=2).T\n",
    "\n",
    "        hidden_inputs = np.dot(self.weight_ih, inputs) + self.b_ih\n",
    "#         print(f'隐藏层输入：{hidden_inputs}')\n",
    "        hidden_outputs = self.activation_function(hidden_inputs)\n",
    "#         print(f'隐藏层输出：{hidden_outputs}')\n",
    "\n",
    "        final_inputs = np.dot(self.weight_ho, hidden_outputs) + self.b_ho\n",
    "        final_outputs = self.activation_function(final_inputs)\n",
    "#         print(f'最终输出：{final_outputs}')\n",
    "\n",
    "\n",
    "        return final_outputs\n",
    "        pass\n",
    "\n",
    "\n",
    "if __name__ == \"__main__\":\n",
    "    pass\n",
    "\n",
    "    input_nodes = 784\n",
    "    hidden_nodes = 100\n",
    "    output_nodes = 10\n",
    "\n",
    "    learning_rate = 0.3\n",
    "\n",
    "    # 创建一个神经网络对象\n",
    "    n = NeuralNetwork(input_nodes, hidden_nodes, output_nodes, learning_rate)\n",
    "\n",
    "    # 登录训练集\n",
    "    training_data_file = open(r\"/Users/dufy/code/data/mnist_dataset_csv/mnist_train100.csv\", 'r')\n",
    "    training_data_list = training_data_file.readlines()\n",
    "    training_data_file.close()\n",
    "\n",
    "    for record in training_data_list:\n",
    "        all_values = record.split(',')\n",
    "        inputs = (np.asfarray(all_values[1:]) / 255.0 * 0.99) + 0.01\n",
    "        targets = np.zeros(output_nodes) + 0.01\n",
    "        targets[int(all_values[0])] = 0.99  # 由于首个为标签\n",
    "        n.train(inputs, targets)\n",
    "    "
   ]
  },
  {
   "cell_type": "code",
   "execution_count": 169,
   "metadata": {},
   "outputs": [
    {
     "name": "stdout",
     "output_type": "stream",
     "text": [
      "7\n"
     ]
    }
   ],
   "source": [
    "# 小样本测试\n",
    "test_data_file = open(r\"/Users/dufy/code/data/mnist_dataset_csv/mnist_test.csv\", 'r')\n",
    "test_data_list = test_data_file.readlines()\n",
    "test_data_file.close()\n",
    "all_values = test_data_list[0].split(',')\n",
    "print(all_values[0])"
   ]
  },
  {
   "cell_type": "code",
   "execution_count": 102,
   "metadata": {},
   "outputs": [
    {
     "data": {
      "text/plain": [
       "<matplotlib.image.AxesImage at 0x11fd87ad0>"
      ]
     },
     "execution_count": 102,
     "metadata": {},
     "output_type": "execute_result"
    },
    {
     "data": {
      "image/png": "[encoded data removed]",
      "text/plain": [
       "<Figure size 432x288 with 1 Axes>"
      ]
     },
     "metadata": {
      "needs_background": "light"
     },
     "output_type": "display_data"
    }
   ],
   "source": [
    "image_array = numpy.asfarray(all_values[1:]).reshape((28,28))\n",
    "matplotlib.pyplot.imshow(image_array, cmap='Greys', interpolation='None')"
   ]
  },
  {
   "cell_type": "code",
   "execution_count": 103,
   "metadata": {},
   "outputs": [
    {
     "data": {
      "text/plain": [
       "array([[0.0255257 ],\n",
       "       [0.0031402 ],\n",
       "       [0.04315915],\n",
       "       [0.02500186],\n",
       "       [0.08838936],\n",
       "       [0.03024017],\n",
       "       [0.00231813],\n",
       "       [0.68618973],\n",
       "       [0.03495768],\n",
       "       [0.0781747 ]])"
      ]
     },
     "execution_count": 103,
     "metadata": {},
     "output_type": "execute_result"
    }
   ],
   "source": [
    "n.query((np.asfarray(all_values[1:]) / 255.0 * 0.99) + 0.01)"
   ]
  },
  {
   "cell_type": "code",
   "execution_count": 126,
   "metadata": {},
   "outputs": [
    {
     "name": "stdout",
     "output_type": "stream",
     "text": [
      "['✔️', '❌', '✔️', '✔️', '✔️', '✔️', '✔️', '❌', '❌', '❌', '✔️', '❌', '✔️', '✔️', '✔️', '❌', '❌', '✔️', '✔️', '✔️']\n"
     ]
    },
    {
     "data": {
      "text/plain": [
       "0.65"
      ]
     },
     "execution_count": 126,
     "metadata": {},
     "output_type": "execute_result"
    }
   ],
   "source": [
    "# 统计前10条结果\n",
    "score_card = []\n",
    "score_mark = []\n",
    "\n",
    "for record in test_data_list[:20]:\n",
    "    all_values = record.split(',')\n",
    "    correct_label = int(all_values[0])\n",
    "#     print(f'正确标签：{correct_label}')\n",
    "    inputs = (np.asfarray(all_values[1:]) / 255.0 * 0.99) + 0.01\n",
    "    outputs = n.query(inputs)\n",
    "    predict_label = np.argmax(outputs)\n",
    "#     print(f'预测标签：{predict_label}')\n",
    "    \n",
    "    if predict_label == correct_label:\n",
    "        score_mark.append('✔️')\n",
    "        score_card.append(1)\n",
    "        \n",
    "    else:\n",
    "        score_mark.append('❌')\n",
    "        score_card.append(0)\n",
    "        \n",
    "#         inputs = (np.asfarray(all_values[1:]) / 255.0 * 0.99) + 0.01\n",
    "#         targets = np.zeros(output_nodes) + 0.01\n",
    "#         targets[int(all_values[0])] = 0.99  # 由于首个为标签\n",
    "#         n.train(inputs, targets)\n",
    "\n",
    "# 准确率\n",
    "print(score_mark)\n",
    "\n",
    "scorecard_array = np.asarray(score_card)\n",
    "scorecard_array.sum()/scorecard_array.size"
   ]
  },
  {
   "cell_type": "code",
   "execution_count": 173,
   "metadata": {},
   "outputs": [
    {
     "name": "stdout",
     "output_type": "stream",
     "text": [
      "耗时：20.015098094940186\n"
     ]
    }
   ],
   "source": [
    "# 使用完整训练集\n",
    "\n",
    "# -*- coding: utf-8 -*-\n",
    "\"\"\"\n",
    "@Time : 2020/5/31 11:20 下午\n",
    "@Author : Dufy\n",
    "@Email : 813540660@qq.com\n",
    "@File : scratch.py\n",
    "@Software: PyCharm\n",
    "Description :\n",
    "1) 完整集训练\n",
    "2)\n",
    "\"\"\"\n",
    "import time\n",
    "import numpy as np\n",
    "import scipy.special\n",
    "\n",
    "\n",
    "class NeuralNetwork:\n",
    "    # 定义NN\n",
    "\n",
    "    def __init__(self, input_nodes, hidden_nodes, output_nodes, learning_rate):\n",
    "        # 设置输入、隐藏、输出节点数\n",
    "        self.inodes = input_nodes\n",
    "        self.hnodes = hidden_nodes\n",
    "        self.onodes = output_nodes\n",
    "\n",
    "        # 学习率\n",
    "        self.lr = learning_rate\n",
    "\n",
    "        # 权重矩阵\n",
    "        self.weight_ih = np.random.normal(0, pow(self.hnodes, -0.5), (self.hnodes, self.inodes))\n",
    "        self.weight_ho = np.random.normal(0, pow(self.onodes, -0.5), (self.onodes, self.hnodes))\n",
    "        self.b_ih = 0.0  # 偏置\n",
    "        self.b_ho = 0.0  # 偏置\n",
    "\n",
    "        self.weight_ih[0, 0] = 0.15\n",
    "        self.weight_ih[0, 1] = 0.2\n",
    "        self.weight_ih[1, 0] = .25\n",
    "        self.weight_ih[1, 1] = 0.3\n",
    "\n",
    "        self.weight_ho[0, 0] = 0.4\n",
    "        self.weight_ho[0, 1] = 0.45\n",
    "        self.weight_ho[1, 0] = .5\n",
    "        self.weight_ho[1, 1] = 0.55\n",
    "\n",
    "        # 激活函数\n",
    "        self.activation_function = lambda x: scipy.special.expit(x)\n",
    "        pass\n",
    "\n",
    "    def train(self, inputs_list, targets_lists):\n",
    "        # 训练NN\n",
    "        inputs = np.array(inputs_list, ndmin=2).T\n",
    "        hidden_inputs = np.dot(self.weight_ih, inputs) + self.b_ih\n",
    "        hidden_outputs = self.activation_function(hidden_inputs)\n",
    "\n",
    "        final_outputs = self.query(inputs_list)\n",
    "        targets = np.array(targets_lists, ndmin=2).T\n",
    "\n",
    "        # 计算误差对W偏导数\n",
    "        output_errors = final_outputs - targets\n",
    "        hidden_errors = np.dot(self.weight_ho.T, output_errors)\n",
    "\n",
    "        partial_who = np.dot((output_errors * final_outputs * (1.0 - final_outputs)),\n",
    "                             np.transpose(hidden_outputs))\n",
    "        # print(f'w_ho偏导：{partial_who}')\n",
    "\n",
    "        # 更新w_ho   Δw = α * ∂E/∂w\n",
    "        self.weight_ho -= self.lr * partial_who\n",
    "        #         print(f'更新后的w_ho{self.weight_ho}')\n",
    "        # 更新w_ih   Δw = α * ∂E/∂w\n",
    "        partial_wih = np.dot((hidden_errors * hidden_outputs * (1.0 - hidden_outputs)),\n",
    "                             np.transpose(inputs))\n",
    "        self.weight_ih -= self.lr * partial_wih\n",
    "        #         print(f'更新后的w_ih{self.weight_ih}')\n",
    "\n",
    "        pass\n",
    "\n",
    "    def query(self, inputs_list):\n",
    "        # 输入转化为二维数组\n",
    "        inputs = np.array(inputs_list, ndmin=2).T\n",
    "\n",
    "        hidden_inputs = np.dot(self.weight_ih, inputs) + self.b_ih\n",
    "        #         print(f'隐藏层输入：{hidden_inputs}')\n",
    "        hidden_outputs = self.activation_function(hidden_inputs)\n",
    "        #         print(f'隐藏层输出：{hidden_outputs}')\n",
    "\n",
    "        final_inputs = np.dot(self.weight_ho, hidden_outputs) + self.b_ho\n",
    "        final_outputs = self.activation_function(final_inputs)\n",
    "        #         print(f'最终输出：{final_outputs}')\n",
    "\n",
    "        return final_outputs\n",
    "        pass\n",
    "\n",
    "\n",
    "if __name__ == \"__main__\":\n",
    "    pass\n",
    "    time0 = time.time()\n",
    "\n",
    "    input_nodes = 784\n",
    "    hidden_nodes = 100\n",
    "    output_nodes = 10\n",
    "\n",
    "    learning_rate = 0.3\n",
    "\n",
    "    # 创建一个神经网络对象\n",
    "    n = NeuralNetwork(input_nodes, hidden_nodes, output_nodes, learning_rate)\n",
    "\n",
    "    # 登录训练集\n",
    "    training_data_file = open(r\"/Users/dufy/code/data/mnist_dataset_csv/mnist_train.csv\", 'r')\n",
    "    training_data_list = training_data_file.readlines()\n",
    "    training_data_file.close()\n",
    "\n",
    "    for record in training_data_list:\n",
    "        all_values = record.split(',')\n",
    "        inputs = (np.asfarray(all_values[1:]) / 255.0 * 0.99) + 0.01\n",
    "        targets = np.zeros(output_nodes) + 0.01\n",
    "        targets[int(all_values[0])] = 0.99  # 由于首个为标签\n",
    "        n.train(inputs, targets)\n",
    "\n",
    "    \n",
    "    print(f'耗时：{time.time()- time0}')\n"
   ]
  },
  {
   "cell_type": "code",
   "execution_count": 183,
   "metadata": {},
   "outputs": [
    {
     "name": "stdout",
     "output_type": "stream",
     "text": [
      "进度0.10 |> \n",
      "进度0.20 |> > \n",
      "进度0.30 |> > > \n",
      "进度0.40 |> > > > \n",
      "进度0.50 |> > > > > \n",
      "进度0.60 |> > > > > > \n",
      "进度0.70 |> > > > > > > \n",
      "进度0.80 |> > > > > > > > \n",
      "进度0.90 |> > > > > > > > > \n",
      "进度1.00 |> > > > > > > > > > \n",
      "准确率：0.9471\n"
     ]
    }
   ],
   "source": [
    "#     测试\n",
    "test_data_file = open(r\"/Users/dufy/code/data/mnist_dataset_csv/mnist_test.csv\", 'r')\n",
    "test_data_list = test_data_file.readlines()\n",
    "test_data_file.close()\n",
    "score_card = []\n",
    "\n",
    "number_traindata_used = 0\n",
    "for record in test_data_list:\n",
    "    number_traindata_used += 1\n",
    "    if number_traindata_used%1000 == 0:\n",
    "        pass\n",
    "        print(\"进度{:.2f} {}{}\".format(number_traindata_used/len(test_data_list),\n",
    "                                       '|','> '*(int(10*number_traindata_used/len(test_data_list)))))\n",
    "\n",
    "    all_values = record.split(',')\n",
    "    correct_label = int(all_values[0])\n",
    "    #     print(f'正确标签：{correct_label}')\n",
    "    inputs = (np.asfarray(all_values[1:]) / 255.0 * 0.99) + 0.01\n",
    "    outputs = n.query(inputs)\n",
    "    predict_label = np.argmax(outputs)\n",
    "    #     print(f'预测标签：{predict_label}')\n",
    "\n",
    "    if predict_label == correct_label:\n",
    "        score_card.append(1)\n",
    "\n",
    "    else:\n",
    "        score_card.append(0)\n",
    "\n",
    "# 准确率\n",
    "\n",
    "scorecard_array = np.asarray(score_card)\n",
    "print(f'准确率：{scorecard_array.sum() / scorecard_array.size}')\n",
    "\n"
   ]
  },
  {
   "cell_type": "markdown",
   "metadata": {},
   "source": [
    "## <font color='red'>5. 测试自己的笔迹 </font><a name='5'></a>\n",
    "[回到目录](#toc)\n",
    "\n",
    "添加了多个噪声，很强大"
   ]
  },
  {
   "cell_type": "code",
   "execution_count": 225,
   "metadata": {},
   "outputs": [
    {
     "name": "stdout",
     "output_type": "stream",
     "text": [
      "[[0.12555335]\n",
      " [0.02416391]\n",
      " [0.22596557]\n",
      " [0.093592  ]\n",
      " [0.02321145]\n",
      " [0.0668127 ]\n",
      " [0.09293483]\n",
      " [0.07986519]\n",
      " [0.31962453]\n",
      " [0.07110244]]\n"
     ]
    },
    {
     "name": "stderr",
     "output_type": "stream",
     "text": [
      "/Users/dufy/anaconda3/lib/python3.7/site-packages/ipykernel_launcher.py:3: DeprecationWarning: `imread` is deprecated!\n",
      "`imread` is deprecated in SciPy 1.0.0, and will be removed in 1.2.0.\n",
      "Use ``imageio.imread`` instead.\n",
      "  This is separate from the ipykernel package so we can avoid doing imports until\n"
     ]
    },
    {
     "data": {
      "text/plain": [
       "8"
      ]
     },
     "execution_count": 225,
     "metadata": {},
     "output_type": "execute_result"
    },
    {
     "data": {
      "image/png": "[encoded data removed]",
      "text/plain": [
       "<Figure size 432x288 with 1 Axes>"
      ]
     },
     "metadata": {
      "needs_background": "light"
     },
     "output_type": "display_data"
    }
   ],
   "source": [
    "\n",
    "import scipy.misc\n",
    "\n",
    "img_array =scipy.misc.imread('my_own.png', flatten=True)\n",
    "# print(img_array)\n",
    "matplotlib.pyplot.imshow(img_array.reshape(28,28), cmap='Greys', interpolation='None')\n",
    "\n",
    "img_data = 255 - img_array.reshape(784)  # 逆转黑白显示，mnist， 0-->白\n",
    "img_data = (img_data / 255.0 * 0.99) + 0.01\n",
    "\n",
    "outputs = n.query(img_data)\n",
    "print(outputs)\n",
    "predict_label = np.argmax(outputs)\n",
    "predict_label"
   ]
  },
  {
   "cell_type": "code",
   "execution_count": 226,
   "metadata": {},
   "outputs": [
    {
     "name": "stdout",
     "output_type": "stream",
     "text": [
      "[[0.2652753 ]\n",
      " [0.0147891 ]\n",
      " [0.08494036]\n",
      " [0.18836521]\n",
      " [0.02617258]\n",
      " [0.05417842]\n",
      " [0.06149978]\n",
      " [0.02202068]\n",
      " [0.44915865]\n",
      " [0.0591373 ]]\n"
     ]
    },
    {
     "data": {
      "text/plain": [
       "8"
      ]
     },
     "execution_count": 226,
     "metadata": {},
     "output_type": "execute_result"
    },
    {
     "data": {
      "image/png": "[encoded data removed]",
      "text/plain": [
       "<Figure size 432x288 with 1 Axes>"
      ]
     },
     "metadata": {
      "needs_background": "light"
     },
     "output_type": "display_data"
    }
   ],
   "source": [
    "import scipy.special\n",
    "# scipy.ndimage for rotating image arrays\n",
    "import scipy.ndimage\n",
    "\n",
    "rotate_img = scipy.ndimage.interpolation.rotate(img_data.reshape(28,28), 35, cval=0.01, order=1, reshape=False)\n",
    "matplotlib.pyplot.imshow(inputs_plusx_img.reshape(28,28), cmap='Greys', interpolation='None')\n",
    "img_data = 255 - rotate_img.reshape(784)  # 逆转黑白显示，mnist， 0-->白\n",
    "img_data = (img_data / 255.0 * 0.99) + 0.01\n",
    "\n",
    "outputs = n.query(img_data)\n",
    "print(outputs)\n",
    "predict_label = np.argmax(outputs)\n",
    "predict_label"
   ]
  }
 ],
 "metadata": {
  "kernelspec": {
   "display_name": "Python 3",
   "language": "python",
   "name": "python3"
  },
  "language_info": {
   "codemirror_mode": {
    "name": "ipython",
    "version": 3
   },
   "file_extension": ".py",
   "mimetype": "text/x-python",
   "name": "python",
   "nbconvert_exporter": "python",
   "pygments_lexer": "ipython3",
   "version": "3.7.6"
  }
 },
 "nbformat": 4,
 "nbformat_minor": 4
}
