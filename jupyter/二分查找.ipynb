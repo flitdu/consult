{
 "cells": [
  {
   "cell_type": "code",
   "execution_count": 35,
   "metadata": {},
   "outputs": [
    {
     "name": "stdout",
     "output_type": "stream",
     "text": [
      "4\n"
     ]
    }
   ],
   "source": [
    "# 二分查找\n",
    "# [1,2,3,5,6,7], tar=1\n",
    "\n",
    "\n",
    "def b_search(li, tar):\n",
    "    l = 0\n",
    "    h = len(li)-1\n",
    "    while l<=h:\n",
    "        mid= (h+l)//2\n",
    "        pivot = li[mid]\n",
    "        if tar==pivot: return mid\n",
    "        elif tar<pivot:  # 缩小h\n",
    "            h=mid-1\n",
    "        else: l=mid+1\n",
    "    return None\n",
    "\n",
    "li = [1,2,3,5,6,7]\n",
    "print(b_search(li,6))\n"
   ]
  },
  {
   "cell_type": "code",
   "execution_count": 43,
   "metadata": {},
   "outputs": [
    {
     "name": "stdout",
     "output_type": "stream",
     "text": [
      "6\n"
     ]
    }
   ],
   "source": [
    "# 递归版本\n",
    "def b_search_recursion(li, l, h, tar):\n",
    "    if l>h: return None\n",
    "    mid = (h+l)//2\n",
    "    pivot = li[mid]\n",
    "    if pivot==tar: return mid\n",
    "    elif tar<pivot: return b_search_recursion(li,l,mid-1,tar)\n",
    "    else: return b_search_recursion(li,mid+1,h,tar)\n",
    "\n",
    "li = [1,2,3,5,6,7,9]\n",
    "tar = 9\n",
    "print(b_search_recursion(li,0, len(li)-1, tar))\n"
   ]
  },
  {
   "cell_type": "code",
   "execution_count": 26,
   "metadata": {},
   "outputs": [],
   "source": []
  },
  {
   "cell_type": "code",
   "execution_count": 8,
   "metadata": {},
   "outputs": [
    {
     "data": {
      "text/plain": [
       "0"
      ]
     },
     "execution_count": 8,
     "metadata": {},
     "output_type": "execute_result"
    }
   ],
   "source": []
  }
 ],
 "metadata": {
  "kernelspec": {
   "display_name": "Python 3",
   "language": "python",
   "name": "python3"
  },
  "language_info": {
   "codemirror_mode": {
    "name": "ipython",
    "version": 3
   },
   "file_extension": ".py",
   "mimetype": "text/x-python",
   "name": "python",
   "nbconvert_exporter": "python",
   "pygments_lexer": "ipython3",
   "version": "3.7.6"
  }
 },
 "nbformat": 4,
 "nbformat_minor": 4
}
