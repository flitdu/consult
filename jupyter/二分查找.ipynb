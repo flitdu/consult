{
 "cells": [
  {
   "cell_type": "code",
   "execution_count": 34,
   "metadata": {},
   "outputs": [
    {
     "name": "stdout",
     "output_type": "stream",
     "text": [
      "None\n"
     ]
    }
   ],
   "source": [
    "# 二分查找\n",
    "# [1,2,3,5,6,7], tar=1\n",
    "\n",
    "\n",
    "def b_search(li, tar):\n",
    "    l = 0\n",
    "    h = len(li)-1\n",
    "    while l<=h:\n",
    "        mid= (h+l)//2\n",
    "        pivot = li[mid]\n",
    "        if tar==pivot: return mid\n",
    "        elif tar<pivot:  # 缩小h\n",
    "            h=mid-1\n",
    "        else: l=mid+1\n",
    "    return None\n",
    "\n",
    "li = [1,2,3,5,6,7]\n",
    "print(b_search(li,4))\n"
   ]
  },
  {
   "cell_type": "code",
   "execution_count": 32,
   "metadata": {},
   "outputs": [
    {
     "name": "stdout",
     "output_type": "stream",
     "text": [
      "6\n"
     ]
    }
   ],
   "source": [
    "# 递归版本\n",
    "def b_search_recursion(li, l, h, tar):\n",
    "    if l>h: return None\n",
    "    mid = (h+l)//2\n",
    "    pivot = li[mid]\n",
    "    if pivot==tar: return mid\n",
    "    elif tar<pivot: return b_search_recursion(li,l,mid-1,tar)\n",
    "    else: return b_search_recursion(li,mid+1,h,tar)\n",
    "\n",
    "li = [1,3, 3,3,5,6,7,7]\n",
    "tar = 7\n",
    "print(b_search_recursion(li,0, len(li)-1, tar))\n"
   ]
  },
  {
   "cell_type": "markdown",
   "metadata": {},
   "source": [
    "# 二分查找变形"
   ]
  },
  {
   "cell_type": "code",
   "execution_count": 27,
   "metadata": {},
   "outputs": [
    {
     "name": "stdout",
     "output_type": "stream",
     "text": [
      "1\n"
     ]
    }
   ],
   "source": [
    "# 查找第一个值等于给定值的元素\n",
    "\n",
    "\n",
    "def b_search(li, tar):\n",
    "    l = 0\n",
    "    h = len(li)-1\n",
    "    while l<=h:\n",
    "        mid= (h+l)//2\n",
    "        pivot = li[mid]\n",
    "        if tar==pivot:\n",
    "            if li[mid-1] !=tar or mid==0: return mid\n",
    "            else: h = mid-1\n",
    "        elif tar<pivot:  # 缩小h\n",
    "            h=mid-1\n",
    "        else: l=mid+1\n",
    "    return None\n",
    "\n",
    "li = [1,3, 3,3,5,6,7]\n",
    "print(b_search(li,3))\n"
   ]
  },
  {
   "cell_type": "code",
   "execution_count": 70,
   "metadata": {},
   "outputs": [
    {
     "name": "stdout",
     "output_type": "stream",
     "text": [
      "位置对应关系： {'0': 1, '1': 3, '2': 3, '3': 3, '4': 5, '5': 6, '6': 7, '7': 7}\n",
      "7\n"
     ]
    }
   ],
   "source": [
    "# 变体二:查找最后一个值等于给定值的元素\n",
    "\n",
    "\n",
    "def b_search(li, tar):\n",
    "    l = 0\n",
    "    h = len(li)-1\n",
    "    while l<=h:\n",
    "        mid= (h+l)//2\n",
    "        pivot = li[mid]\n",
    "        if tar==pivot: \n",
    "            if mid==len(li)-1 or li[mid+1]!=tar: return mid\n",
    "            else: l = mid+1\n",
    "        elif tar<pivot:  # 缩小h\n",
    "            h=mid-1\n",
    "        else: l=mid+1\n",
    "    return None\n",
    "\n",
    "li = [1,3, 3,3,5,6,7,7]\n",
    "print('位置对应关系：', {str(i):v for i,v in enumerate(li)})\n",
    "print(b_search(li,7))\n"
   ]
  },
  {
   "cell_type": "code",
   "execution_count": 84,
   "metadata": {},
   "outputs": [
    {
     "name": "stdout",
     "output_type": "stream",
     "text": [
      "位置对应关系： {'0': 1, '1': 2, '2': 3}\n",
      "2\n"
     ]
    }
   ],
   "source": [
    "# 二分查找\n",
    "# 变体三:查找第一个大于等于给定值的元素\n",
    "\n",
    "def b_search(li, tar):\n",
    "    l = 0\n",
    "    h = len(li)-1\n",
    "    while l<=h:\n",
    "        mid= (h+l)//2\n",
    "        pivot = li[mid]\n",
    "        if tar<=pivot:\n",
    "            if mid==0 or li[mid-1]<tar: return mid\n",
    "            else: h=mid-1\n",
    "        else: l=mid+1\n",
    "    return None\n",
    "\n",
    "li = [1,2,3]\n",
    "print('位置对应关系：', {str(i):v for i,v in enumerate(li)})\n",
    "print(b_search(li,3))\n"
   ]
  },
  {
   "cell_type": "code",
   "execution_count": 86,
   "metadata": {},
   "outputs": [
    {
     "name": "stdout",
     "output_type": "stream",
     "text": [
      "位置对应关系： {'0': 1, '1': 2, '2': 3, '3': 3, '4': 6, '5': 7}\n",
      "5\n"
     ]
    }
   ],
   "source": [
    "# 二分查找\n",
    "# 变体四:查找最后一个小于等于给定值的元素\n",
    "\n",
    "def b_search(li, tar):\n",
    "    l = 0\n",
    "    h = len(li)-1\n",
    "    while l<=h:\n",
    "        mid= (h+l)//2\n",
    "        pivot = li[mid]\n",
    "        if tar>=pivot:\n",
    "            if mid==len(li)-1 or li[mid+1]>tar: return mid\n",
    "            else: l=mid+1\n",
    "        else: h=mid-1\n",
    "    return None\n",
    "\n",
    "li = [1,2,3,3,6,7]\n",
    "print('位置对应关系：', {str(i):v for i,v in enumerate(li)})\n",
    "print(b_search(li,8))\n"
   ]
  }
 ],
 "metadata": {
  "kernelspec": {
   "display_name": "Python 3",
   "language": "python",
   "name": "python3"
  },
  "language_info": {
   "codemirror_mode": {
    "name": "ipython",
    "version": 3
   },
   "file_extension": ".py",
   "mimetype": "text/x-python",
   "name": "python",
   "nbconvert_exporter": "python",
   "pygments_lexer": "ipython3",
   "version": "3.7.6"
  }
 },
 "nbformat": 4,
 "nbformat_minor": 4
}
