{
 "cells": [
  {
   "cell_type": "code",
   "execution_count": null,
   "metadata": {},
   "outputs": [],
   "source": []
  },
  {
   "cell_type": "code",
   "execution_count": 84,
   "metadata": {},
   "outputs": [
    {
     "name": "stdout",
     "output_type": "stream",
     "text": [
      "0*1*2*3*4*[7, 9, 4, 2, 8, 1]\n",
      "0*1*2*3*[9, 7, 4, 8, 2, 1]\n",
      "0*1*2*[9, 7, 8, 4, 2, 1]\n",
      "0*1*[9, 8, 7, 4, 2, 1]\n",
      "0*[9, 8, 7, 4, 2, 1]\n"
     ]
    },
    {
     "data": {
      "text/plain": [
       "[9, 8, 7, 4, 2, 1]"
      ]
     },
     "execution_count": 84,
     "metadata": {},
     "output_type": "execute_result"
    }
   ],
   "source": [
    "\"\"\"\n",
    "冒泡排序\n",
    "\n",
    "原始：4 7 9 2 1 8\n",
    "\n",
    "第一趟： 7 9 4 2 8 1   比较到【5】, 6-1\n",
    "第二趟： 9 7 4 8 2 1   比较到【4】, 6-2\n",
    "....\n",
    "第五趟： 9 8 7 4 2 1   比较到【1】\n",
    "\n",
    "\"\"\"\n",
    "\n",
    "li = [4, 7, 9, 2, 1, 8]\n",
    "\n",
    "leng = len(li)\n",
    "for i in range(1,leng):  # 比较趟数\n",
    "    for j in range(leng-i):\n",
    "        print(j, end='*')\n",
    "        if li[j]<li[j+1]:\n",
    "            li[j], li[j+1] = li[j+1], li[j]  # 交换元素\n",
    "    print(li)\n",
    "li"
   ]
  },
  {
   "cell_type": "code",
   "execution_count": 23,
   "metadata": {},
   "outputs": [
    {
     "name": "stdout",
     "output_type": "stream",
     "text": [
      "0*1*2*3*4*[7, 9, 8, 4, 2, 1]\n",
      "0*1*2*3*[9, 8, 7, 4, 2, 1]\n",
      "0*1*2*"
     ]
    },
    {
     "data": {
      "text/plain": [
       "[9, 8, 7, 4, 2, 1]"
      ]
     },
     "execution_count": 23,
     "metadata": {},
     "output_type": "execute_result"
    }
   ],
   "source": [
    "# 优化：\n",
    "# 如果某次冒泡操作没有数据交换，则有序，直接退出\n",
    "li = [4, 7, 9, 8, 2, 1]\n",
    "leng = len(li)\n",
    "\n",
    "for i in range(1,leng):  # 比较趟数\n",
    "    tag=1\n",
    "    for j in range(leng-i):\n",
    "        print(j, end='*')\n",
    "        if li[j]<li[j+1]:\n",
    "            li[j], li[j+1] = li[j+1], li[j]  # 交换元素\n",
    "            tag = 0\n",
    "    if tag: break\n",
    "    print(li)\n",
    "li\n"
   ]
  },
  {
   "cell_type": "code",
   "execution_count": 31,
   "metadata": {},
   "outputs": [
    {
     "name": "stdout",
     "output_type": "stream",
     "text": [
      "[23, 12, 37, 64, 19, 64, 38, 69, 92, 6]\n",
      "[92, 69, 64, 64, 38, 37, 23, 19, 12, 6]\n"
     ]
    }
   ],
   "source": [
    "# 封装函数\n",
    "def bubble_sort(li):\n",
    "    n = len(li)\n",
    "    for i in range(1,n):  # 比较趟数\n",
    "        tag = 1\n",
    "        for j in range(n-i):\n",
    "            if li[j]<li[j+1]:\n",
    "                li[j], li[j+1] = li[j+1], li[j]  # 交换元素\n",
    "                tag = 0\n",
    "        if tag: break\n",
    "li = [random.randint(0,100) for i in range(10)]\n",
    "print(li)\n",
    "bubble_sort(li)\n",
    "print(li)"
   ]
  },
  {
   "cell_type": "markdown",
   "metadata": {},
   "source": [
    "# 插入排序"
   ]
  },
  {
   "cell_type": "code",
   "execution_count": 55,
   "metadata": {},
   "outputs": [
    {
     "name": "stdout",
     "output_type": "stream",
     "text": [
      "0*[1, 4, 6, 5, 3, 2]\n",
      "1*[1, 4, 6, 5, 3, 2]\n",
      "2*1*[1, 4, 5, 6, 3, 2]\n",
      "3*2*1*0*[1, 3, 4, 5, 6, 2]\n",
      "4*3*2*1*0*[1, 2, 3, 4, 5, 6]\n"
     ]
    },
    {
     "data": {
      "text/plain": [
       "[1, 2, 3, 4, 5, 6]"
      ]
     },
     "execution_count": 55,
     "metadata": {},
     "output_type": "execute_result"
    }
   ],
   "source": [
    "\"\"\"\n",
    "插入排序，分为两个区域：左侧为已排序，右侧为未排序区间\n",
    "原始：4 1 6 5 3 2\n",
    "第一趟： 1 4| 6 5 3 2   比较【1】\n",
    "第二趟： 1 4 6| 5 3 2   比较【2】\n",
    "....\n",
    "第五趟： 1 2 3 4 5 6|   比较【5】\n",
    "\n",
    "\"\"\"\n",
    "\n",
    "li = [4, 1, 6, 5, 3, 2]\n",
    "n = len(li)\n",
    "for i in range(1,n):  # 比较的趟数：1，2，3，4，5\n",
    "    value = li[i]  # 待比较元素\n",
    "    for j in range(i-1,-1,-1):\n",
    "        print(j, end='*')\n",
    "        if li[j]>value:\n",
    "            li[j+1] = li[j]  # 移动元素\n",
    "        else:\n",
    "            break\n",
    "        li[j] = value   #插入数据\n",
    "    print(li)\n",
    "li"
   ]
  },
  {
   "cell_type": "code",
   "execution_count": 59,
   "metadata": {},
   "outputs": [],
   "source": [
    "\n",
    "def insert_sort(li):\n",
    "    n = len(li)\n",
    "    for i in range(1,n):  # 比较的趟数：1，2，3，4，5\n",
    "        value = li[i]  # 待比较元素\n",
    "        for j in range(i-1,-1,-1):\n",
    "            if li[j]>value:\n",
    "                li[j+1] = li[j]  # 移动元素\n",
    "            else:\n",
    "                break\n",
    "            li[j] = value   #插入数据\n"
   ]
  },
  {
   "cell_type": "code",
   "execution_count": 85,
   "metadata": {},
   "outputs": [
    {
     "name": "stdout",
     "output_type": "stream",
     "text": [
      "冒泡花费时间：0.7172112464904785\n",
      "插入花费时间：0.417572021484375\n"
     ]
    }
   ],
   "source": [
    "# 插入与冒泡时间比较\n",
    "# 随机生成1000个数组，每个 包含100个数据\n",
    "import time\n",
    "\n",
    "def generate_data():\n",
    "    test = []\n",
    "    for _ in range(1000):\n",
    "        li = [random.randint(0,20000) for i in range(100)]\n",
    "        test.append(li)\n",
    "    return test\n",
    "    \n",
    "test = generate_data()\n",
    "time0 = time.time()\n",
    "for li in test:\n",
    "    bubble_sort(li)\n",
    "print(f'冒泡花费时间：{time.time()-time0}')\n",
    "\n",
    "test = generate_data()\n",
    "time0 = time.time()\n",
    "for li in test:\n",
    "    insert_sort(li)\n",
    "print(f'插入花费时间：{time.time()-time0}')"
   ]
  },
  {
   "cell_type": "markdown",
   "metadata": {},
   "source": [
    "# 归并排序"
   ]
  },
  {
   "cell_type": "code",
   "execution_count": 93,
   "metadata": {},
   "outputs": [
    {
     "data": {
      "text/plain": [
       "[3, 3, 5, 7, 9, 11]"
      ]
     },
     "execution_count": 93,
     "metadata": {},
     "output_type": "execute_result"
    }
   ],
   "source": [
    "\"\"\"\n",
    "递归实现：\n",
    "递推公式： merge_sort(p,r) = merge(merge_sort(p,q),merge_sort(q+1, r))\n",
    "终止条件： p>=r\n",
    "\"\"\"\n",
    "\n",
    "def merge_sort(li, p, r):\n",
    "    pass\n",
    "    if p>=r: return\n",
    "    mid = (p+r)//2   # 中间位置\n",
    "    merge_sort(li, p, mid)\n",
    "    merge_sort(li, mid+1, r)\n",
    "    merge(li, p, mid, r)\n",
    "    \n",
    "def merge(li, p, mid, r):\n",
    "    tmp = []  # 申请临时数组，存放merge 结果\n",
    "    i= p\n",
    "    j = mid+1\n",
    "    while i<=mid and j<=r:\n",
    "        if li[i]<=li[j]:  # ‘=’保证是稳定的\n",
    "            tmp.append(li[i])\n",
    "            i +=1 \n",
    "        else:\n",
    "            tmp.append(li[j])\n",
    "            j +=1\n",
    "    # while 执行完肯定有一部分没数了\n",
    "    \n",
    "    while i<=mid: # 说明这部分还没取完\n",
    "        tmp.append(li[i])\n",
    "        i +=1\n",
    "    while j<=r: # 说明这部分还没取完\n",
    "        tmp.append(li[j])\n",
    "        j +=1\n",
    "    li[p:r+1] = tmp\n",
    "    \n",
    "li = [3,11,5,7,9,3]      \n",
    "merge_sort(li, 0, len(li)-1)\n",
    "li\n",
    "\n"
   ]
  },
  {
   "cell_type": "markdown",
   "metadata": {},
   "source": [
    "# 快速排序"
   ]
  },
  {
   "cell_type": "code",
   "execution_count": 99,
   "metadata": {},
   "outputs": [
    {
     "data": {
      "text/plain": [
       "[3, 7, 11, 13, 19, 25]"
      ]
     },
     "execution_count": 99,
     "metadata": {},
     "output_type": "execute_result"
    }
   ],
   "source": [
    "\n",
    "# 递推公式：\n",
    "# quick_sort(p…r) = quick_sort(p…q-1) + quick_sort(q+1… r)\n",
    "# 终止条件：\n",
    "# p >= r\n",
    "\n",
    "def quick_sort(li, p, r):\n",
    "    if p>=r: return\n",
    "    q = partition(li, p, r)   # 获分区点\n",
    "    quick_sort(li, p, q-1)\n",
    "    quick_sort(li, q+1, r)\n",
    "    \n",
    "def partition(li, p, r):\n",
    "    pivot = li[p]  # 选队首为比较点\n",
    "    while p<r:\n",
    "        while li[r]>=pivot and p<r:\n",
    "            r -= 1\n",
    "        li[p] = li[r]\n",
    "        while li[p] <=pivot and p<r:\n",
    "            p += 1\n",
    "        li[r] = li[p]\n",
    "    li[p] = pivot  # p/r相遇,得到\n",
    "    return p\n",
    "        \n",
    "    \n",
    "    \n",
    "li = [13,11,25,7,19,3]      \n",
    "quick_sort(li, 0, len(li)-1)\n",
    "li\n"
   ]
  },
  {
   "cell_type": "code",
   "execution_count": null,
   "metadata": {},
   "outputs": [],
   "source": []
  }
 ],
 "metadata": {
  "kernelspec": {
   "display_name": "Python 3",
   "language": "python",
   "name": "python3"
  },
  "language_info": {
   "codemirror_mode": {
    "name": "ipython",
    "version": 3
   },
   "file_extension": ".py",
   "mimetype": "text/x-python",
   "name": "python",
   "nbconvert_exporter": "python",
   "pygments_lexer": "ipython3",
   "version": "3.7.6"
  }
 },
 "nbformat": 4,
 "nbformat_minor": 4
}
