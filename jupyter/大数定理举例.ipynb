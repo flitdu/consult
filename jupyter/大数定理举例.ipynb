{
 "cells": [
  {
   "cell_type": "code",
   "execution_count": null,
   "metadata": {},
   "outputs": [],
   "source": [
    "# 大数定理估计整体均值\n",
    "# 以筛子点数为例，假设有1000万的筛子点数随机样本\n",
    "# 然后，通过随机抽样，估计总体的均值情况"
   ]
  },
  {
   "cell_type": "code",
   "execution_count": 48,
   "metadata": {},
   "outputs": [
    {
     "name": "stdout",
     "output_type": "stream",
     "text": [
      "3.5001473\n",
      "1.7077861043768654\n"
     ]
    },
    {
     "data": {
      "text/plain": [
       "array([1, 5, 4, ..., 4, 6, 2])"
      ]
     },
     "execution_count": 48,
     "metadata": {},
     "output_type": "execute_result"
    }
   ],
   "source": [
    "\n",
    "import numpy as np \n",
    "random_data = np.random.randint(1, 7, 10000000)\n",
    "print(random_data.mean()) # 打印整体的平均值\n",
    "print(random_data.std())  # 打印标准差\n",
    "random_data"
   ]
  },
  {
   "cell_type": "code",
   "execution_count": 49,
   "metadata": {},
   "outputs": [
    {
     "data": {
      "text/plain": [
       "(10000000,)"
      ]
     },
     "execution_count": 49,
     "metadata": {},
     "output_type": "execute_result"
    }
   ],
   "source": [
    "random_data.shape"
   ]
  },
  {
   "cell_type": "code",
   "execution_count": 50,
   "metadata": {},
   "outputs": [
    {
     "data": {
      "image/png": "[encoded data removed]",
      "text/plain": [
       "<Figure size 432x288 with 1 Axes>"
      ]
     },
     "metadata": {
      "needs_background": "light"
     },
     "output_type": "display_data"
    }
   ],
   "source": [
    "# 数据点展示\n",
    "from matplotlib import pyplot as plt \n",
    "import numpy as np  \n",
    "\n",
    "plt.hist(random_data, bins = [0,1,2,3,4,5,6,7]) \n",
    "plt.title(\"histogram\") \n",
    "plt.show()\n"
   ]
  },
  {
   "cell_type": "code",
   "execution_count": 51,
   "metadata": {},
   "outputs": [
    {
     "name": "stdout",
     "output_type": "stream",
     "text": [
      "[2, 6, 6, 6, 4, 5, 5, 2, 5, 4]\n"
     ]
    },
    {
     "data": {
      "text/plain": [
       "(4.5, 1.4317821063276353)"
      ]
     },
     "execution_count": 51,
     "metadata": {},
     "output_type": "execute_result"
    }
   ],
   "source": [
    "sample1 = []\n",
    "for i in range(0, 10):\n",
    "    sample1.append(random_data[int(np.random.random() * len(random_data))])\n",
    "\n",
    "print(sample1) # 打印出来\n",
    "sample_mean = np.array(sample1).mean()\n",
    "sample_std = np.array(sample1).std()\n",
    "sample_mean, sample_std"
   ]
  },
  {
   "cell_type": "code",
   "execution_count": 53,
   "metadata": {},
   "outputs": [
    {
     "data": {
      "text/plain": [
       "[3.34, 3.46, 3.68, 3.48, 3.52, 3.26, 3.8, 3.74, 3.68, 3.06]"
      ]
     },
     "execution_count": 53,
     "metadata": {},
     "output_type": "execute_result"
    }
   ],
   "source": [
    "\"\"\"\n",
    "现在我们抽取1000组，每组50个。每组>=30即可\n",
    "我们把每组的平均值都算出来。\n",
    "\"\"\"\n",
    "res = []  # 存储每次取样的均值\n",
    "for _ in range(1000):\n",
    "    sample = []\n",
    "    for i in range(0, 50):\n",
    "        sample.append(random_data[int(np.random.random() * len(random_data))])\n",
    "    sample_mean = np.array(sample).mean()\n",
    "    res.append(sample_mean)\n",
    "res[:10]"
   ]
  },
  {
   "cell_type": "code",
   "execution_count": 54,
   "metadata": {},
   "outputs": [
    {
     "data": {
      "image/png": "[encoded data removed]",
      "text/plain": [
       "<Figure size 432x288 with 1 Axes>"
      ]
     },
     "metadata": {
      "needs_background": "light"
     },
     "output_type": "display_data"
    }
   ],
   "source": [
    "# 然后，我们把这1000个数字用直方图画出来：\n",
    "plt.hist(res, bins = [2.6,2.8,3,3.2,3.4,3.6,3.8,4,4.2]) \n",
    "plt.title(\"histogram\") \n",
    "plt.show()"
   ]
  },
  {
   "cell_type": "code",
   "execution_count": 56,
   "metadata": {},
   "outputs": [
    {
     "data": {
      "text/plain": [
       "(3.49968, 0.2459054647623757)"
      ]
     },
     "execution_count": 56,
     "metadata": {},
     "output_type": "execute_result"
    }
   ],
   "source": [
    "# 计算均值\n",
    "np.array(res).mean(),np.array(res).std()"
   ]
  }
 ],
 "metadata": {
  "kernelspec": {
   "display_name": "Python 3",
   "language": "python",
   "name": "python3"
  },
  "language_info": {
   "codemirror_mode": {
    "name": "ipython",
    "version": 3
   },
   "file_extension": ".py",
   "mimetype": "text/x-python",
   "name": "python",
   "nbconvert_exporter": "python",
   "pygments_lexer": "ipython3",
   "version": "3.7.6"
  }
 },
 "nbformat": 4,
 "nbformat_minor": 4
}
