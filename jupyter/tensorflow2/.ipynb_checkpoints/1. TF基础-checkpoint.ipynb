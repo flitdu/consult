{
 "cells": [
  {
   "cell_type": "markdown",
   "metadata": {},
   "source": [
    "参考：https://tf.wiki/zh_hans/basic/basic.html"
   ]
  },
  {
   "cell_type": "code",
   "execution_count": 91,
   "metadata": {},
   "outputs": [
    {
     "data": {
      "text/plain": [
       "'2.2.0'"
      ]
     },
     "execution_count": 91,
     "metadata": {},
     "output_type": "execute_result"
    }
   ],
   "source": [
    "import tensorflow as tf  # 在tf2中，即时执行模式为默认方式\n",
    "tf.__version__"
   ]
  },
  {
   "cell_type": "code",
   "execution_count": 98,
   "metadata": {},
   "outputs": [
    {
     "data": {
      "text/plain": [
       "[PhysicalDevice(name='/physical_device:CPU:0', device_type='CPU'),\n",
       " PhysicalDevice(name='/physical_device:XLA_CPU:0', device_type='XLA_CPU')]"
      ]
     },
     "execution_count": 98,
     "metadata": {},
     "output_type": "execute_result"
    }
   ],
   "source": [
    "# 检查gpu 设备是否可用\n",
    "tf.config.list_physical_devices()"
   ]
  },
  {
   "cell_type": "markdown",
   "metadata": {},
   "source": [
    "# TF 中数据类型\n",
    "1.数值型\n",
    "2.字符串型\n",
    "3.布尔型\n",
    "\n",
    "## 数值型--张量\n",
    "在tf 中使用 张量 作为数据的基本单位\n",
    "张量的重要属性是 形状、类型 和值\n",
    "- 标量（scalar）,shape[]\n",
    "- 向量（vector）, shape[n]\n",
    "- matrix，shaoe[m,n]\n",
    "- dim>2,统称为张量，张量的每个维度也叫 axis\n"
   ]
  },
  {
   "cell_type": "markdown",
   "metadata": {},
   "source": [
    "### 张量创建"
   ]
  },
  {
   "cell_type": "code",
   "execution_count": 106,
   "metadata": {},
   "outputs": [
    {
     "data": {
      "text/plain": [
       "(<tf.Tensor: shape=(), dtype=float32, numpy=0.55073714>,\n",
       " <tf.Tensor: shape=(), dtype=float32, numpy=1.2>,\n",
       " 1.1,\n",
       " <tf.Tensor: shape=(), dtype=float32, numpy=0.100000024>)"
      ]
     },
     "execution_count": 106,
     "metadata": {},
     "output_type": "execute_result"
    }
   ],
   "source": [
    "# 定义随机数，标量\n",
    "random_float= tf.random.uniform(shape=())\n",
    "b = tf.constant(1.2)\n",
    "c= 1.1   # 要使用TF 中规定的方式创建张量\n",
    "random_float, b, c, b-c"
   ]
  },
  {
   "cell_type": "code",
   "execution_count": 34,
   "metadata": {},
   "outputs": [
    {
     "data": {
      "text/plain": [
       "<tf.Tensor: shape=(2,), dtype=float32, numpy=array([0., 0.], dtype=float32)>"
      ]
     },
     "execution_count": 34,
     "metadata": {},
     "output_type": "execute_result"
    }
   ],
   "source": [
    "# 定义有2个元素的零向量\n",
    "zero_vector = tf.zeros(shape=(2))\n",
    "zero_vector"
   ]
  },
  {
   "cell_type": "code",
   "execution_count": 190,
   "metadata": {},
   "outputs": [
    {
     "data": {
      "text/plain": [
       "<tf.Variable 'Variable:0' shape=(3,) dtype=float32, numpy=array([0., 0., 0.], dtype=float32)>"
      ]
     },
     "execution_count": 190,
     "metadata": {},
     "output_type": "execute_result"
    }
   ],
   "source": [
    "tf.Variable(tf.zeros([3]))"
   ]
  },
  {
   "cell_type": "code",
   "execution_count": 32,
   "metadata": {},
   "outputs": [
    {
     "data": {
      "text/plain": [
       "(<tf.Tensor: shape=(2, 2), dtype=float32, numpy=\n",
       " array([[1., 2.],\n",
       "        [3., 4.]], dtype=float32)>,\n",
       " <tf.Tensor: shape=(2, 2), dtype=float32, numpy=\n",
       " array([[5., 6.],\n",
       "        [7., 8.]], dtype=float32)>)"
      ]
     },
     "execution_count": 32,
     "metadata": {},
     "output_type": "execute_result"
    }
   ],
   "source": [
    "# 定义两个 2x2 的常量矩阵\n",
    "A= tf.constant([[1.,2.], [3.,4.]])\n",
    "B= tf.constant([[5.,6.], [7.,8.]])\n",
    "A,B"
   ]
  },
  {
   "cell_type": "code",
   "execution_count": 127,
   "metadata": {},
   "outputs": [
    {
     "data": {
      "text/plain": [
       "<tf.Tensor: shape=(1, 3, 3, 4), dtype=float32, numpy=\n",
       "array([[[[1., 1., 1., 1.],\n",
       "         [1., 1., 1., 1.],\n",
       "         [1., 1., 1., 1.]],\n",
       "\n",
       "        [[1., 1., 1., 1.],\n",
       "         [1., 1., 1., 1.],\n",
       "         [1., 1., 1., 1.]],\n",
       "\n",
       "        [[1., 1., 1., 1.],\n",
       "         [1., 1., 1., 1.],\n",
       "         [1., 1., 1., 1.]]]], dtype=float32)>"
      ]
     },
     "execution_count": 127,
     "metadata": {},
     "output_type": "execute_result"
    }
   ],
   "source": [
    "# 自定义shape\n",
    "input_shape = (1,3,3,4)\n",
    "tf.ones(input_shape)"
   ]
  },
  {
   "cell_type": "code",
   "execution_count": 128,
   "metadata": {},
   "outputs": [
    {
     "data": {
      "text/plain": [
       "<tf.Tensor: shape=(2, 2), dtype=int64, numpy=\n",
       "array([[1, 2],\n",
       "       [3, 4]])>"
      ]
     },
     "execution_count": 128,
     "metadata": {},
     "output_type": "execute_result"
    }
   ],
   "source": [
    "# 也可以通过 转换创建\n",
    "import numpy as np\n",
    "a =np.array([[1,2],\n",
    "         [3,4]])\n",
    "tf.convert_to_tensor(a)"
   ]
  },
  {
   "cell_type": "code",
   "execution_count": 138,
   "metadata": {},
   "outputs": [
    {
     "data": {
      "text/plain": [
       "<tf.Tensor: shape=(5,), dtype=int32, numpy=array([0, 2, 4, 6, 8], dtype=int32)>"
      ]
     },
     "execution_count": 138,
     "metadata": {},
     "output_type": "execute_result"
    }
   ],
   "source": [
    "# 创建序列\n",
    "tf.range(10, delta=2)"
   ]
  },
  {
   "cell_type": "markdown",
   "metadata": {},
   "source": [
    "创建已知分布的张量\n",
    "- 正态分布\n",
    "- 均匀分布"
   ]
  },
  {
   "cell_type": "code",
   "execution_count": 131,
   "metadata": {},
   "outputs": [
    {
     "name": "stdout",
     "output_type": "stream",
     "text": [
      "tf.Tensor(\n",
      "[[ 0.51667637  0.16837546]\n",
      " [-1.8274075  -0.33144206]], shape=(2, 2), dtype=float32)\n",
      "tf.Tensor(\n",
      "[[-2.326231    0.19490719]\n",
      " [ 1.187911    1.244755  ]], shape=(2, 2), dtype=float32)\n"
     ]
    }
   ],
   "source": [
    "a = tf.random.normal([2,2])\n",
    "b = tf.random.normal([2,2], mean=1,stddev=2)  # 创建均值为1，标准差为2\n",
    "print(a,b,sep='\\n')"
   ]
  },
  {
   "cell_type": "code",
   "execution_count": 136,
   "metadata": {},
   "outputs": [
    {
     "name": "stdout",
     "output_type": "stream",
     "text": [
      "tf.Tensor(\n",
      "[[0.26679206 0.05870211 0.49058473]\n",
      " [0.18870091 0.3946991  0.14748538]], shape=(2, 3), dtype=float32)\n",
      "tf.Tensor(\n",
      "[[38 71 11]\n",
      " [41 76 49]], shape=(2, 3), dtype=int32)\n"
     ]
    }
   ],
   "source": [
    "a = tf.random.uniform([2,3])  # 采样区间为【0,1】\n",
    "b= tf.random.uniform([2,3], maxval=100, dtype=tf.int32)  # 采样整形类型数据，同时指定数据类型（精度）\n",
    "print(a,b,sep='\\n')"
   ]
  },
  {
   "cell_type": "code",
   "execution_count": 33,
   "metadata": {},
   "outputs": [
    {
     "name": "stdout",
     "output_type": "stream",
     "text": [
      "(2, 2) <dtype: 'float32'> [[1. 2.]\n",
      " [3. 4.]]\n"
     ]
    }
   ],
   "source": [
    "# 张量的重要属性是 形状、类型 和值\n",
    "# 查看：\n",
    "print(A.shape, A.dtype, A.numpy())"
   ]
  },
  {
   "cell_type": "code",
   "execution_count": 36,
   "metadata": {},
   "outputs": [
    {
     "data": {
      "text/plain": [
       "<tf.Tensor: shape=(2, 2), dtype=float32, numpy=\n",
       "array([[ 6.,  8.],\n",
       "       [10., 12.]], dtype=float32)>"
      ]
     },
     "execution_count": 36,
     "metadata": {},
     "output_type": "execute_result"
    }
   ],
   "source": [
    "# 张量操作\n",
    "c= tf.add(A,B)  # 计算矩阵和\n",
    "c"
   ]
  },
  {
   "cell_type": "code",
   "execution_count": 37,
   "metadata": {},
   "outputs": [
    {
     "data": {
      "text/plain": [
       "<tf.Tensor: shape=(2, 2), dtype=float32, numpy=\n",
       "array([[19., 22.],\n",
       "       [43., 50.]], dtype=float32)>"
      ]
     },
     "execution_count": 37,
     "metadata": {},
     "output_type": "execute_result"
    }
   ],
   "source": [
    "# 计算矩阵相乘\n",
    "D = tf.matmul(A,B)\n",
    "D"
   ]
  },
  {
   "cell_type": "markdown",
   "metadata": {},
   "source": [
    "### 多维张量的几何解释\n",
    "https://cloud.tencent.com/developer/article/1547356\n",
    "\n",
    "注意，通道的表示"
   ]
  },
  {
   "cell_type": "code",
   "execution_count": 84,
   "metadata": {},
   "outputs": [
    {
     "data": {
      "text/plain": [
       "<tf.Tensor: shape=(3, 4, 2), dtype=float16, numpy=\n",
       "array([[[ 1.,  2.],\n",
       "        [ 3.,  4.],\n",
       "        [ 5.,  6.],\n",
       "        [ 7.,  8.]],\n",
       "\n",
       "       [[11., 12.],\n",
       "        [13., 14.],\n",
       "        [15., 16.],\n",
       "        [17., 18.]],\n",
       "\n",
       "       [[21., 22.],\n",
       "        [23., 24.],\n",
       "        [25., 26.],\n",
       "        [27., 28.]]], dtype=float16)>"
      ]
     },
     "execution_count": 84,
     "metadata": {},
     "output_type": "execute_result"
    }
   ],
   "source": [
    "#三维张量，3行4列深度为2的张量\n",
    "const3 = tf.constant([\n",
    "                     [[ 1,  2], [ 3,  4], [ 5,  6], [ 7,  8]],\n",
    "                     [[11, 12], [13, 14], [15, 16], [17, 18]],\n",
    "                     [[21, 22], [23, 24], [25, 26], [27, 28]]\n",
    "                     ], tf.float16)\n",
    "const3"
   ]
  },
  {
   "attachments": {
    "image.png": {
     "image/png": "[encoded data removed]"
    }
   },
   "cell_type": "markdown",
   "metadata": {},
   "source": [
    "\n",
    "对应的如下数据：\n",
    "![image.png](attachment:image.png)\n",
    "\n"
   ]
  },
  {
   "cell_type": "markdown",
   "metadata": {},
   "source": [
    "### 精度"
   ]
  },
  {
   "cell_type": "code",
   "execution_count": 121,
   "metadata": {},
   "outputs": [
    {
     "data": {
      "text/plain": [
       "(<tf.Tensor: shape=(), dtype=int16, numpy=-13035>,\n",
       " <tf.Tensor: shape=(), dtype=int32, numpy=123456789>)"
      ]
     },
     "execution_count": 121,
     "metadata": {},
     "output_type": "execute_result"
    }
   ],
   "source": [
    "# 创建张量时，可以指定张量的保存精度\n",
    "a= tf.constant(123456789, dtype=tf.int16)  # 溢出\n",
    "b =tf.constant(123456789, dtype=tf.int32)\n",
    "a,b\n",
    "# 一般使用 tf.int32, tf.int64"
   ]
  },
  {
   "cell_type": "code",
   "execution_count": 123,
   "metadata": {},
   "outputs": [
    {
     "data": {
      "text/plain": [
       "3.141592653589793"
      ]
     },
     "execution_count": 123,
     "metadata": {},
     "output_type": "execute_result"
    }
   ],
   "source": [
    "# 浮点数\n",
    "import numpy as np\n",
    "np.pi"
   ]
  },
  {
   "cell_type": "code",
   "execution_count": 124,
   "metadata": {},
   "outputs": [
    {
     "data": {
      "text/plain": [
       "<tf.Tensor: shape=(), dtype=float32, numpy=3.1415927>"
      ]
     },
     "execution_count": 124,
     "metadata": {},
     "output_type": "execute_result"
    }
   ],
   "source": [
    "tf.constant(np.pi, dtype=tf.float32)"
   ]
  },
  {
   "cell_type": "code",
   "execution_count": 126,
   "metadata": {},
   "outputs": [
    {
     "data": {
      "text/plain": [
       "<tf.Tensor: shape=(), dtype=float64, numpy=3.141592653589793>"
      ]
     },
     "execution_count": 126,
     "metadata": {},
     "output_type": "execute_result"
    }
   ],
   "source": [
    "# 指定更高精度：\n",
    "tf.constant(np.pi, dtype=tf.float64)"
   ]
  },
  {
   "cell_type": "markdown",
   "metadata": {},
   "source": [
    "## 字符串类型"
   ]
  },
  {
   "cell_type": "code",
   "execution_count": 111,
   "metadata": {},
   "outputs": [
    {
     "data": {
      "text/plain": [
       "<tf.Tensor: shape=(), dtype=string, numpy=b'Hello , Deep learning'>"
      ]
     },
     "execution_count": 111,
     "metadata": {},
     "output_type": "execute_result"
    }
   ],
   "source": [
    "a = tf.constant('Hello , Deep learning')\n",
    "a"
   ]
  },
  {
   "cell_type": "code",
   "execution_count": 112,
   "metadata": {},
   "outputs": [
    {
     "data": {
      "text/plain": [
       "<tf.Tensor: shape=(), dtype=string, numpy=b'hello , deep learning'>"
      ]
     },
     "execution_count": 112,
     "metadata": {},
     "output_type": "execute_result"
    }
   ],
   "source": [
    "tf.strings.lower(a)"
   ]
  },
  {
   "cell_type": "markdown",
   "metadata": {},
   "source": [
    "## 布尔类型"
   ]
  },
  {
   "cell_type": "code",
   "execution_count": 117,
   "metadata": {},
   "outputs": [
    {
     "data": {
      "text/plain": [
       "<tf.Tensor: shape=(), dtype=bool, numpy=True>"
      ]
     },
     "execution_count": 117,
     "metadata": {},
     "output_type": "execute_result"
    }
   ],
   "source": [
    "a=tf.constant(True)\n",
    "a"
   ]
  },
  {
   "cell_type": "markdown",
   "metadata": {},
   "source": [
    "## 维度变换\n",
    "- reshape, 增删维度不会影响张量的存储\n",
    "- transpose 交换维度，改变了张量的存储顺序，同时也改变了张量的视图"
   ]
  },
  {
   "cell_type": "markdown",
   "metadata": {},
   "source": [
    "### 1). reshpae"
   ]
  },
  {
   "cell_type": "code",
   "execution_count": 144,
   "metadata": {},
   "outputs": [
    {
     "data": {
      "text/plain": [
       "<tf.Tensor: shape=(96,), dtype=int32, numpy=\n",
       "array([ 0,  1,  2,  3,  4,  5,  6,  7,  8,  9, 10, 11, 12, 13, 14, 15, 16,\n",
       "       17, 18, 19, 20, 21, 22, 23, 24, 25, 26, 27, 28, 29, 30, 31, 32, 33,\n",
       "       34, 35, 36, 37, 38, 39, 40, 41, 42, 43, 44, 45, 46, 47, 48, 49, 50,\n",
       "       51, 52, 53, 54, 55, 56, 57, 58, 59, 60, 61, 62, 63, 64, 65, 66, 67,\n",
       "       68, 69, 70, 71, 72, 73, 74, 75, 76, 77, 78, 79, 80, 81, 82, 83, 84,\n",
       "       85, 86, 87, 88, 89, 90, 91, 92, 93, 94, 95], dtype=int32)>"
      ]
     },
     "execution_count": 144,
     "metadata": {},
     "output_type": "execute_result"
    }
   ],
   "source": [
    "x = tf.range(96)\n",
    "x"
   ]
  },
  {
   "cell_type": "code",
   "execution_count": 149,
   "metadata": {},
   "outputs": [
    {
     "name": "stdout",
     "output_type": "stream",
     "text": [
      "4 (2, 4, 4, 3)\n"
     ]
    },
    {
     "data": {
      "text/plain": [
       "<tf.Tensor: shape=(2, 4, 4, 3), dtype=int32, numpy=\n",
       "array([[[[ 0,  1,  2],\n",
       "         [ 3,  4,  5],\n",
       "         [ 6,  7,  8],\n",
       "         [ 9, 10, 11]],\n",
       "\n",
       "        [[12, 13, 14],\n",
       "         [15, 16, 17],\n",
       "         [18, 19, 20],\n",
       "         [21, 22, 23]],\n",
       "\n",
       "        [[24, 25, 26],\n",
       "         [27, 28, 29],\n",
       "         [30, 31, 32],\n",
       "         [33, 34, 35]],\n",
       "\n",
       "        [[36, 37, 38],\n",
       "         [39, 40, 41],\n",
       "         [42, 43, 44],\n",
       "         [45, 46, 47]]],\n",
       "\n",
       "\n",
       "       [[[48, 49, 50],\n",
       "         [51, 52, 53],\n",
       "         [54, 55, 56],\n",
       "         [57, 58, 59]],\n",
       "\n",
       "        [[60, 61, 62],\n",
       "         [63, 64, 65],\n",
       "         [66, 67, 68],\n",
       "         [69, 70, 71]],\n",
       "\n",
       "        [[72, 73, 74],\n",
       "         [75, 76, 77],\n",
       "         [78, 79, 80],\n",
       "         [81, 82, 83]],\n",
       "\n",
       "        [[84, 85, 86],\n",
       "         [87, 88, 89],\n",
       "         [90, 91, 92],\n",
       "         [93, 94, 95]]]], dtype=int32)>"
      ]
     },
     "execution_count": 149,
     "metadata": {},
     "output_type": "execute_result"
    }
   ],
   "source": [
    "\"\"\"\n",
    "变换后的理解：\n",
    "2个样本，4*4的彩色照片---->3通道\n",
    "\"\"\"\n",
    "y=tf.reshape(x, [2,4,4,3])\n",
    "print(y.ndim, y.shape)  #查看张量维度、形状\n",
    "y"
   ]
  },
  {
   "cell_type": "code",
   "execution_count": 155,
   "metadata": {},
   "outputs": [
    {
     "name": "stdout",
     "output_type": "stream",
     "text": [
      "tf.Tensor(\n",
      "[[ 0  1  2  3  4  5  6  7  8  9 10 11 12 13 14 15 16 17 18 19 20 21 22 23\n",
      "  24 25 26 27 28 29 30 31 32 33 34 35 36 37 38 39 40 41 42 43 44 45 46 47]\n",
      " [48 49 50 51 52 53 54 55 56 57 58 59 60 61 62 63 64 65 66 67 68 69 70 71\n",
      "  72 73 74 75 76 77 78 79 80 81 82 83 84 85 86 87 88 89 90 91 92 93 94 95]], shape=(2, 48), dtype=int32)\n"
     ]
    },
    {
     "data": {
      "text/plain": [
       "<tf.Tensor: shape=(2, 4, 12), dtype=int32, numpy=\n",
       "array([[[ 0,  1,  2,  3,  4,  5,  6,  7,  8,  9, 10, 11],\n",
       "        [12, 13, 14, 15, 16, 17, 18, 19, 20, 21, 22, 23],\n",
       "        [24, 25, 26, 27, 28, 29, 30, 31, 32, 33, 34, 35],\n",
       "        [36, 37, 38, 39, 40, 41, 42, 43, 44, 45, 46, 47]],\n",
       "\n",
       "       [[48, 49, 50, 51, 52, 53, 54, 55, 56, 57, 58, 59],\n",
       "        [60, 61, 62, 63, 64, 65, 66, 67, 68, 69, 70, 71],\n",
       "        [72, 73, 74, 75, 76, 77, 78, 79, 80, 81, 82, 83],\n",
       "        [84, 85, 86, 87, 88, 89, 90, 91, 92, 93, 94, 95]]], dtype=int32)>"
      ]
     },
     "execution_count": 155,
     "metadata": {},
     "output_type": "execute_result"
    }
   ],
   "source": [
    "print(tf.reshape(x, [2,-1]))\n",
    "tf.reshape(x, [2,4,12])"
   ]
  },
  {
   "cell_type": "markdown",
   "metadata": {},
   "source": [
    "### 2) 增删维度"
   ]
  },
  {
   "cell_type": "code",
   "execution_count": 185,
   "metadata": {},
   "outputs": [
    {
     "data": {
      "text/plain": [
       "<tf.Tensor: shape=(2, 2), dtype=int32, numpy=\n",
       "array([[6, 8],\n",
       "       [5, 2]], dtype=int32)>"
      ]
     },
     "execution_count": 185,
     "metadata": {},
     "output_type": "execute_result"
    }
   ],
   "source": [
    "x =tf.random.uniform([2,2], maxval=10, dtype=tf.int32)\n",
    "x"
   ]
  },
  {
   "cell_type": "code",
   "execution_count": 186,
   "metadata": {},
   "outputs": [
    {
     "data": {
      "text/plain": [
       "<tf.Tensor: shape=(2, 2, 1), dtype=int32, numpy=\n",
       "array([[[6],\n",
       "        [8]],\n",
       "\n",
       "       [[5],\n",
       "        [2]]], dtype=int32)>"
      ]
     },
     "execution_count": 186,
     "metadata": {},
     "output_type": "execute_result"
    }
   ],
   "source": [
    "tf.expand_dims(x, axis=2)"
   ]
  },
  {
   "cell_type": "code",
   "execution_count": 187,
   "metadata": {},
   "outputs": [
    {
     "data": {
      "text/plain": [
       "<tf.Tensor: shape=(1, 2, 2), dtype=int32, numpy=\n",
       "array([[[6, 8],\n",
       "        [5, 2]]], dtype=int32)>"
      ]
     },
     "execution_count": 187,
     "metadata": {},
     "output_type": "execute_result"
    }
   ],
   "source": [
    "tf.expand_dims(x,axis=0) # shape=(1, 2, 2)"
   ]
  },
  {
   "cell_type": "code",
   "execution_count": 188,
   "metadata": {},
   "outputs": [
    {
     "data": {
      "text/plain": [
       "<tf.Tensor: shape=(4, 4, 1), dtype=float32, numpy=\n",
       "array([[[0.36934495],\n",
       "        [0.8086957 ],\n",
       "        [0.27312374],\n",
       "        [0.50928116]],\n",
       "\n",
       "       [[0.5360769 ],\n",
       "        [0.7336986 ],\n",
       "        [0.7175299 ],\n",
       "        [0.88423014]],\n",
       "\n",
       "       [[0.42005587],\n",
       "        [0.92795396],\n",
       "        [0.52024174],\n",
       "        [0.62639725]],\n",
       "\n",
       "       [[0.42563355],\n",
       "        [0.88048077],\n",
       "        [0.8071213 ],\n",
       "        [0.1979754 ]]], dtype=float32)>"
      ]
     },
     "execution_count": 188,
     "metadata": {},
     "output_type": "execute_result"
    }
   ],
   "source": [
    "# 删除维度\n",
    "x= tf.random.uniform([1,4,4,1])\n",
    "tf.squeeze(x, axis=0)"
   ]
  },
  {
   "cell_type": "markdown",
   "metadata": {},
   "source": [
    "### 3) 交换维度 Transpose"
   ]
  },
  {
   "cell_type": "code",
   "execution_count": 189,
   "metadata": {},
   "outputs": [
    {
     "name": "stdout",
     "output_type": "stream",
     "text": [
      "tf.Tensor(\n",
      "[[[[-1.1855215 ]\n",
      "   [-0.76488453]\n",
      "   [-0.59369946]]\n",
      "\n",
      "  [[-0.416811  ]\n",
      "   [ 0.10235399]\n",
      "   [ 0.7415841 ]]\n",
      "\n",
      "  [[-0.16267891]\n",
      "   [ 0.71344566]\n",
      "   [-0.40588287]]]\n",
      "\n",
      "\n",
      " [[[-0.5581484 ]\n",
      "   [-0.57614285]\n",
      "   [ 0.5973474 ]]\n",
      "\n",
      "  [[-0.03363952]\n",
      "   [ 0.7066523 ]\n",
      "   [-1.5348479 ]]\n",
      "\n",
      "  [[-0.2817344 ]\n",
      "   [-0.42164877]\n",
      "   [ 0.01449816]]]], shape=(2, 3, 3, 1), dtype=float32)\n"
     ]
    },
    {
     "data": {
      "text/plain": [
       "<tf.Tensor: shape=(2, 1, 3, 3), dtype=float32, numpy=\n",
       "array([[[[-1.1855215 , -0.76488453, -0.59369946],\n",
       "         [-0.416811  ,  0.10235399,  0.7415841 ],\n",
       "         [-0.16267891,  0.71344566, -0.40588287]]],\n",
       "\n",
       "\n",
       "       [[[-0.5581484 , -0.57614285,  0.5973474 ],\n",
       "         [-0.03363952,  0.7066523 , -1.5348479 ],\n",
       "         [-0.2817344 , -0.42164877,  0.01449816]]]], dtype=float32)>"
      ]
     },
     "execution_count": 189,
     "metadata": {},
     "output_type": "execute_result"
    }
   ],
   "source": [
    "x= tf.random.normal([2,3,3,1])\n",
    "print(x)\n",
    "tf.transpose(x,perm=[0,3,1,2])"
   ]
  },
  {
   "cell_type": "markdown",
   "metadata": {},
   "source": [
    "## 合并与分割\n"
   ]
  },
  {
   "cell_type": "code",
   "execution_count": 198,
   "metadata": {},
   "outputs": [
    {
     "data": {
      "text/plain": [
       "TensorShape([10, 35, 8])"
      ]
     },
     "execution_count": 198,
     "metadata": {},
     "output_type": "execute_result"
    }
   ],
   "source": [
    "a = tf.random.normal([4,35,8])\n",
    "b = tf.random.normal([6,35,8])\n",
    "x1 = tf.concat([a,b],axis=0)\n",
    "x1.shape"
   ]
  },
  {
   "cell_type": "code",
   "execution_count": 201,
   "metadata": {},
   "outputs": [
    {
     "data": {
      "text/plain": [
       "TensorShape([4, 35, 16])"
      ]
     },
     "execution_count": 201,
     "metadata": {},
     "output_type": "execute_result"
    }
   ],
   "source": [
    "a = tf.random.normal([4,35,8])\n",
    "b = tf.random.normal([4,35,8])\n",
    "x1 = tf.concat([a,b],axis=2)\n",
    "x1.shape"
   ]
  },
  {
   "cell_type": "code",
   "execution_count": 203,
   "metadata": {},
   "outputs": [
    {
     "data": {
      "text/plain": [
       "TensorShape([2, 35, 8])"
      ]
     },
     "execution_count": 203,
     "metadata": {},
     "output_type": "execute_result"
    }
   ],
   "source": [
    "\"\"\"\n",
    "tf.stack()\n",
    "会创建新的维度\n",
    "\"\"\"\n",
    "a = tf.random.normal([35,8])\n",
    "b = tf.random.normal([35,8])\n",
    "x1 = tf.stack([a,b],axis=0)\n",
    "x1.shape"
   ]
  },
  {
   "cell_type": "code",
   "execution_count": 206,
   "metadata": {},
   "outputs": [
    {
     "data": {
      "text/plain": [
       "<tf.Tensor: shape=(1, 3, 4), dtype=float32, numpy=\n",
       "array([[[ 0.4315047 , -1.1407601 , -1.8682294 , -1.4007369 ],\n",
       "        [-1.2341512 ,  0.5665225 ,  0.2287841 ,  0.85365057],\n",
       "        [ 0.44875246, -0.00930753,  0.8656226 , -1.0099585 ]]],\n",
       "      dtype=float32)>"
      ]
     },
     "execution_count": 206,
     "metadata": {},
     "output_type": "execute_result"
    }
   ],
   "source": [
    "\"\"\"\n",
    "分割\n",
    "\"\"\"\n",
    "x= tf.random.normal([10,3,4])\n",
    "res = tf.split(x,axis=0, num_or_size_splits=10)\n",
    "res[0]"
   ]
  },
  {
   "cell_type": "code",
   "execution_count": 208,
   "metadata": {},
   "outputs": [
    {
     "data": {
      "text/plain": [
       "<tf.Tensor: shape=(3, 3, 4), dtype=float32, numpy=\n",
       "array([[[ 0.4315047 , -1.1407601 , -1.8682294 , -1.4007369 ],\n",
       "        [-1.2341512 ,  0.5665225 ,  0.2287841 ,  0.85365057],\n",
       "        [ 0.44875246, -0.00930753,  0.8656226 , -1.0099585 ]],\n",
       "\n",
       "       [[ 3.5826058 , -0.51693016,  1.7356758 ,  0.86005723],\n",
       "        [-0.38301   ,  1.1312126 ,  2.3226976 , -0.21169822],\n",
       "        [-2.313271  ,  0.26999164, -0.71693456,  0.826646  ]],\n",
       "\n",
       "       [[ 0.2706114 ,  0.59898496,  0.26473108, -1.3708816 ],\n",
       "        [ 0.37554255,  0.7973066 ,  1.0441977 , -1.0431063 ],\n",
       "        [-0.11843815, -0.61460245,  0.3207984 ,  0.28195444]]],\n",
       "      dtype=float32)>"
      ]
     },
     "execution_count": 208,
     "metadata": {},
     "output_type": "execute_result"
    }
   ],
   "source": [
    "# 不等长切割\n",
    "res = tf.split(x,axis=0, num_or_size_splits=[3,3,4])\n",
    "res[0]"
   ]
  },
  {
   "cell_type": "markdown",
   "metadata": {},
   "source": [
    "## meshgrid"
   ]
  },
  {
   "cell_type": "code",
   "execution_count": 209,
   "metadata": {},
   "outputs": [
    {
     "data": {
      "image/png": "[encoded data removed]",
      "text/plain": [
       "<Figure size 432x288 with 1 Axes>"
      ]
     },
     "metadata": {
      "needs_background": "light"
     },
     "output_type": "display_data"
    }
   ],
   "source": [
    "# 可以方便生成二维网格采样点坐标，方便可视化等应用场合\n",
    "x = tf.linspace(-8.,8,100) # 设置 x 坐标的间隔\n",
    "y = tf.linspace(-8.,8,100) # 设置 y 坐标的间隔\n",
    "x,y = tf.meshgrid(x,y) # 生成网格点，并拆分后返回 \n",
    "z =tf.sqrt(x**2+y**2)\n",
    "z=tf.sin(z)/z\n",
    "z\n",
    "\n",
    "import matplotlib.pyplot as plt\n",
    "from mpl_toolkits.mplot3d import Axes3D\n",
    "\n",
    "fig = plt.figure()\n",
    "ax = Axes3D(fig)\n",
    "# 根据网格点绘制 sinc 函数 3D 曲面 \n",
    "ax.contour3D(x.numpy(), y.numpy(), z.numpy(), 50)\n",
    "plt.show()"
   ]
  },
  {
   "cell_type": "markdown",
   "metadata": {},
   "source": [
    "# 加速计算\n",
    "tf的重要功能是利用GPU 方便的实现并行计算加速功能\n",
    "\n",
    "矩阵维度越大，GPU加速越明显\n",
    "![image-20210727081451190](https://tva1.sinaimg.cn/large/008i3skNgy1gsv6y6tw7xj30vi0l00tx.jpg)"
   ]
  },
  {
   "cell_type": "code",
   "execution_count": null,
   "metadata": {},
   "outputs": [],
   "source": [
    "import timeit\n",
    "import tensorflow as tf\n",
    "n = 10**7\n",
    "# 创建在CPU上运算的2个矩阵\n",
    "with tf.device('/cpu:0'):\n",
    "    cpu_a = tf.random.normal([1, n])\n",
    "    cpu_b = tf.random.normal([n, 1])\n",
    "    print(cpu_a.device, cpu_b.device)\n",
    "\n",
    "# 创建使用GPU运算的2个矩阵\n",
    "with tf.device('/gpu:0'):\n",
    "    gpu_a = tf.random.normal([1, n])\n",
    "    gpu_b = tf.random.normal([n, 1])\n",
    "    print(gpu_a.device, gpu_b.device)\n",
    "\n",
    "\n",
    "def cpu_run():\n",
    "    with tf.device('/cpu:0'):\n",
    "        c = tf.matmul(cpu_a, cpu_b)\n",
    "    return c\n",
    "\n",
    "\n",
    "def gpu_run():\n",
    "    with tf.device('/gpu:0'):\n",
    "        c = tf.matmul(gpu_a, gpu_b)\n",
    "    return c\n",
    "\n",
    "# 第一次计算需要热身，避免将初始化阶段时间结算在内\n",
    "cpu_time = timeit.timeit(cpu_run, number=10)\n",
    "gpu_time = timeit.timeit(gpu_run, number=10)\n",
    "print('warmup:', cpu_time, gpu_time)\n",
    "# 正式计算10次，取平均时间\n",
    "cpu_time = timeit.timeit(cpu_run, number=10)\n",
    "gpu_time = timeit.timeit(gpu_run, number=10)\n",
    "print('run time:', cpu_time, gpu_time)"
   ]
  },
  {
   "cell_type": "markdown",
   "metadata": {},
   "source": [
    "# 自动求导机制\n",
    "tf.GradientTape()"
   ]
  },
  {
   "cell_type": "code",
   "execution_count": 50,
   "metadata": {},
   "outputs": [
    {
     "data": {
      "text/plain": [
       "(<tf.Tensor: shape=(), dtype=float32, numpy=9.0>,\n",
       " <tf.Tensor: shape=(), dtype=float32, numpy=6.0>,\n",
       " <tf.Variable 'Variable:0' shape=() dtype=float32, numpy=3.0>)"
      ]
     },
     "execution_count": 50,
     "metadata": {},
     "output_type": "execute_result"
    }
   ],
   "source": [
    "# 计算 y(x)= x^2 在x=3时的导数\n",
    "import tensorflow as tf\n",
    "x=tf.Variable(initial_value=3.)  # 声明变量, 变量赋值初始化\n",
    "with tf.GradientTape() as tape:\n",
    "    y= tf.square(x)\n",
    "y_grad = tape.gradient(y,x)\n",
    "y, y_grad, x   #注意，张量与变量的区别\n",
    "\n",
    "# 变量与普通张量的一个重要区别是其默认能够被 TensorFlow 的自动求导机制所求导，\n",
    "# 因此往往被用于定义机器学习模型的参数。"
   ]
  },
  {
   "cell_type": "code",
   "execution_count": 56,
   "metadata": {},
   "outputs": [
    {
     "name": "stdout",
     "output_type": "stream",
     "text": [
      "tf.Tensor(125.0, shape=(), dtype=float32) \n",
      " tf.Tensor(\n",
      "[[ 70.]\n",
      " [100.]], shape=(2, 1), dtype=float32) \n",
      " tf.Tensor(30.0, shape=(), dtype=float32)\n"
     ]
    }
   ],
   "source": [
    "# 对多元函数、向量、矩阵求导\n",
    "# 如对 L(w, b) = |Xw + b - y|^2 \n",
    "# 在 w = (1, 2)^T, b = 1 时分别对 w, b 的偏导数\n",
    "X = tf.constant([[1., 2.], [3., 4.]])\n",
    "y = tf.constant([[1.], [2.]])\n",
    "w = tf.Variable(initial_value=[[1.], [2.]])\n",
    "b = tf.Variable(initial_value=1.)\n",
    "with tf.GradientTape() as tape:\n",
    "    L = tf.reduce_sum(tf.square(tf.matmul(X, w) + b - y))  \n",
    "    # tf.reduce_sum() 操作代表对输入张量的所有元素求和，输出一个形状为空的纯量张量\n",
    "#     （可以通过 axis 参数来指定求和的维度，不指定则默认对所有元素求和）\n",
    "w_grad, b_grad = tape.gradient(L, [w, b])        # 计算L(w, b)关于w, b的偏导数\n",
    "print(L,'\\n', w_grad,'\\n', b_grad)"
   ]
  },
  {
   "cell_type": "markdown",
   "metadata": {},
   "source": [
    "![image-20210727081749196](https://tva1.sinaimg.cn/large/008i3skNgy1gsv71999roj31100fkaaw.jpg)"
   ]
  },
  {
   "cell_type": "markdown",
   "metadata": {},
   "source": [
    "### 链式求导验证"
   ]
  },
  {
   "cell_type": "code",
   "execution_count": 242,
   "metadata": {},
   "outputs": [
    {
     "data": {
      "text/plain": [
       "(<tf.Tensor: shape=(), dtype=float32, numpy=2.0>,\n",
       " <tf.Tensor: shape=(), dtype=float32, numpy=2.0>,\n",
       " <tf.Tensor: shape=(), dtype=float32, numpy=1.0>)"
      ]
     },
     "execution_count": 242,
     "metadata": {},
     "output_type": "execute_result"
    }
   ],
   "source": [
    "x=tf.constant(1.)\n",
    "w1 = tf.constant(2.)\n",
    "b1 = tf.constant(1.)\n",
    "w2 = tf.constant(2.)\n",
    "b2 = tf.constant(1.)\n",
    "\n",
    "# 构建梯度记录器\n",
    "with tf.GradientTape(persistent=True) as tape:\n",
    "    tape.watch([w1, b1, w2, b2])\n",
    "#     构建2层线性网络\n",
    "    y1= x*w1+b1\n",
    "    y2= y1*w2+b2\n",
    "# 独立求出各个偏导数\n",
    "dy2_dy1 = tape.gradient(y2, [y1])[0]\n",
    "dy1_dw1 = tape.gradient(y1, [w1])[0]\n",
    "\n",
    "dy2_dw1 = tape.gradient(y2, [w1])[0]\n",
    "\n",
    "dy2_dw1, dy2_dy1, dy1_dw1"
   ]
  },
  {
   "cell_type": "markdown",
   "metadata": {},
   "source": [
    "# Himmelblau 函数优化\n",
    "f(x,y)=(x^2+y-11)^2+(x+y^2-7)^2"
   ]
  },
  {
   "cell_type": "code",
   "execution_count": 251,
   "metadata": {},
   "outputs": [
    {
     "name": "stdout",
     "output_type": "stream",
     "text": [
      "x,y range: (120,) (120,)\n",
      "X,Y maps: (120, 120) (120, 120)\n"
     ]
    },
    {
     "data": {
      "image/png": "[encoded data removed]",
      "text/plain": [
       "<Figure size 432x288 with 1 Axes>"
      ]
     },
     "metadata": {
      "needs_background": "light"
     },
     "output_type": "display_data"
    },
    {
     "data": {
      "image/png": "[encoded data removed]",
      "text/plain": [
       "<Figure size 432x288 with 1 Axes>"
      ]
     },
     "metadata": {
      "needs_background": "light"
     },
     "output_type": "display_data"
    },
    {
     "name": "stdout",
     "output_type": "stream",
     "text": [
      "step 19: x = [-2.805118   3.1313124], f(x) = 2.2737367544323206e-13\n",
      "step 39: x = [-2.805118   3.1313124], f(x) = 2.2737367544323206e-13\n",
      "step 59: x = [-2.805118   3.1313124], f(x) = 2.2737367544323206e-13\n",
      "step 79: x = [-2.805118   3.1313124], f(x) = 2.2737367544323206e-13\n",
      "step 99: x = [-2.805118   3.1313124], f(x) = 2.2737367544323206e-13\n",
      "step 119: x = [-2.805118   3.1313124], f(x) = 2.2737367544323206e-13\n",
      "step 139: x = [-2.805118   3.1313124], f(x) = 2.2737367544323206e-13\n",
      "step 159: x = [-2.805118   3.1313124], f(x) = 2.2737367544323206e-13\n",
      "step 179: x = [-2.805118   3.1313124], f(x) = 2.2737367544323206e-13\n",
      "step 199: x = [-2.805118   3.1313124], f(x) = 2.2737367544323206e-13\n"
     ]
    }
   ],
   "source": [
    "import  numpy as np\n",
    "from    mpl_toolkits.mplot3d import Axes3D\n",
    "from    matplotlib import pyplot as plt\n",
    "import  tensorflow as tf\n",
    "\n",
    "\n",
    "\n",
    "def himmelblau(x):\n",
    "    # himmelblau函数实现\n",
    "    return (x[0] ** 2 + x[1] - 11) ** 2 + (x[0] + x[1] ** 2 - 7) ** 2\n",
    "\n",
    "\n",
    "x = np.arange(-6, 6, 0.1)\n",
    "y = np.arange(-6, 6, 0.1)\n",
    "print('x,y range:', x.shape, y.shape)\n",
    "# 生成x-y平面采样网格点，方便可视化\n",
    "X, Y = np.meshgrid(x, y)\n",
    "print('X,Y maps:', X.shape, Y.shape)\n",
    "Z = himmelblau([X, Y]) # 计算网格点上的函数值\n",
    "\n",
    "# 绘制himmelblau函数曲面\n",
    "fig = plt.figure('himmelblau')\n",
    "ax = fig.gca(projection='3d')\n",
    "ax.plot_surface(X, Y, Z, cmap='rainbow')\n",
    "ax.view_init(60, -30)\n",
    "ax.set_xlabel('x')\n",
    "ax.set_ylabel('y')\n",
    "plt.show()\n",
    "\n",
    "contour = plt.contour(X,Y,Z,colors='k',alpha=0.5)\n",
    "plt.clabel(contour,inline=True)\n",
    "plt.show()\n",
    "\n",
    "# 参数的初始化值对优化的影响不容忽视，可以通过尝试不同的初始化值，\n",
    "# 检验函数优化的极小值情况\n",
    "# [1., 0.], [-4, 0.], [4, 0.]\n",
    "# x = tf.constant([4., 0.])\n",
    "# x = tf.constant([1., 0.])\n",
    "# x = tf.constant([-4., 0.])\n",
    "x = tf.constant([-2., 2.])\n",
    "\n",
    "for step in range(200):# 循环优化\n",
    "    with tf.GradientTape() as tape: #梯度跟踪\n",
    "        tape.watch([x]) # 记录梯度\n",
    "        y = himmelblau(x) # 前向传播\n",
    "    # 反向传播\n",
    "    grads = tape.gradient(y, [x])[0] \n",
    "    # 更新参数,0.01为学习率\n",
    "    x -= 0.01*grads\n",
    "    # 打印优化的极小值\n",
    "    if step % 20 == 19:\n",
    "        print ('step {}: x = {}, f(x) = {}'\n",
    "               .format(step, x.numpy(), y.numpy()))\n"
   ]
  },
  {
   "cell_type": "markdown",
   "metadata": {},
   "source": [
    "# 基础示例：线性回归\n",
    "\n",
    "考虑一个实际问题，某城市在 2013 年 - 2017 年的房价如下表所示：\n",
    "\n",
    "![image-20210727081851855](https://tva1.sinaimg.cn/large/008i3skNgy1gsv72cffjcj31a207g3z9.jpg)\n",
    "现在，我们希望通过对该数据进行线性回归，即使用线性模型 y = ax + b 来拟合上述数据，此处 a 和 b 是待求的参数。"
   ]
  },
  {
   "cell_type": "code",
   "execution_count": 65,
   "metadata": {},
   "outputs": [],
   "source": [
    "# 1） 定义数据，进行归一化操作\n",
    "import numpy as np\n",
    "X_raw = np.array([2013, 2014, 2015, 2016, 2017], dtype=np.float32)\n",
    "y_raw = np.array([12000, 14000, 15000, 16500, 17500], dtype=np.float32)\n",
    "\n",
    "X = (X_raw - X_raw.min()) / (X_raw.max() - X_raw.min())\n",
    "y = (y_raw - y_raw.min()) / (y_raw.max() - y_raw.min())"
   ]
  },
  {
   "cell_type": "markdown",
   "metadata": {},
   "source": [
    "损失函数：l = (ax+b-y)^2"
   ]
  },
  {
   "cell_type": "code",
   "execution_count": 71,
   "metadata": {},
   "outputs": [
    {
     "name": "stdout",
     "output_type": "stream",
     "text": [
      "0.9763702027872223 0.057564988337455304\n"
     ]
    }
   ],
   "source": [
    "# 首先，使用np 手工操作\n",
    "a, b= 0,0\n",
    "num_epoch = 10000\n",
    "learning_rate = 5e-4\n",
    "for e in range(num_epoch):\n",
    "    y_pred = a*X+b\n",
    "    grad_a, grad_b = 2*(y_pred-y).dot(X), 2*(y_pred-y).sum()\n",
    "    \n",
    "#     更新参数\n",
    "    a,b = a-learning_rate*grad_a, b-learning_rate*grad_b\n",
    "print(a,b)"
   ]
  },
  {
   "cell_type": "markdown",
   "metadata": {},
   "source": [
    "然而，你或许已经可以注意到，使用常规的科学计算库实现机器学习模型有两个痛点：\n",
    "\n",
    "经常需要手工求函数关于参数的偏导数。如果是简单的函数或许还好，但一旦函数的形式变得复杂（尤其是深度学习模型），手工求导的过程将变得非常痛苦，甚至不可行。\n",
    "\n",
    "经常需要手工根据求导的结果更新参数。这里使用了最基础的梯度下降方法，因此参数的更新还较为容易。但如果使用更加复杂的参数更新方法（例如 Adam 或者 Adagrad），这个更新过程的编写同样会非常繁杂。"
   ]
  },
  {
   "cell_type": "markdown",
   "metadata": {},
   "source": [
    "## TF下的线性回归"
   ]
  },
  {
   "cell_type": "code",
   "execution_count": 81,
   "metadata": {},
   "outputs": [
    {
     "name": "stdout",
     "output_type": "stream",
     "text": [
      "<tf.Variable 'Variable:0' shape=() dtype=float32, numpy=0.97637> <tf.Variable 'Variable:0' shape=() dtype=float32, numpy=0.057565063>\n"
     ]
    }
   ],
   "source": [
    "X = tf.constant(X)\n",
    "y = tf.constant(y)\n",
    "\n",
    "a = tf.Variable(initial_value=0.)\n",
    "b = tf.Variable(initial_value=0.)\n",
    "variables = [a, b]\n",
    "\n",
    "num_epoch = 10000\n",
    "optimizer = tf.keras.optimizers.SGD(learning_rate=5e-4)  # 声明梯度下降优化器\n",
    "for e in range(num_epoch):\n",
    "    # 使用tf.GradientTape()记录损失函数的梯度信息\n",
    "    with tf.GradientTape() as tape:\n",
    "        y_pred = a * X + b\n",
    "        loss = tf.reduce_sum(tf.square(y_pred - y))\n",
    "    # TensorFlow自动计算损失函数关于自变量（模型参数）的梯度\n",
    "    grads = tape.gradient(loss, variables)\n",
    "    # TensorFlow自动根据梯度更新参数\n",
    "    optimizer.apply_gradients(grads_and_vars=zip(grads, variables))\n",
    "print(a,b)"
   ]
  },
  {
   "cell_type": "markdown",
   "metadata": {},
   "source": [
    "# 经典数据集加载\n",
    "\n",
    "对于常用的数据集，如:\n",
    "\n",
    "❑ Boston Housing 波士顿房价趋势数据集，用于回归模型训练与测试 \n",
    "\n",
    "❑ CIFAR10/100 真实图片数据集，用于图片分类任务\n",
    "\n",
    "❑ MNIST/Fashion_MNIST 手写数字图片数据集，用于图片分类任务\n",
    "\n",
    "❑ IMDB 情感分类任务数据集\n",
    "\n"
   ]
  },
  {
   "cell_type": "code",
   "execution_count": 240,
   "metadata": {},
   "outputs": [
    {
     "name": "stdout",
     "output_type": "stream",
     "text": [
      "2.2.0\n",
      "x: (60000, 28, 28) y: (60000,) x test: (10000, 28, 28) y test: [7 2 1 ... 4 5 6]\n",
      "(None, 28, 28) (None,)\n",
      "(None, 28, 28) (None,)\n",
      "train sample: (512, 784) (512, 10)\n",
      "0 loss: 0.5947225093841553\n",
      "0 Evaluate Acc: 0.1242\n",
      "80 loss: 0.18921861052513123\n",
      "80 Evaluate Acc: 0.2351\n",
      "160 loss: 0.14849834144115448\n",
      "160 Evaluate Acc: 0.3147\n"
     ]
    },
    {
     "data": {
      "image/png": "[encoded data removed]",
      "text/plain": [
       "<Figure size 432x288 with 1 Axes>"
      ]
     },
     "metadata": {
      "needs_background": "light"
     },
     "output_type": "display_data"
    },
    {
     "data": {
      "image/png": "[encoded data removed]",
      "text/plain": [
       "<Figure size 432x288 with 1 Axes>"
      ]
     },
     "metadata": {
      "needs_background": "light"
     },
     "output_type": "display_data"
    }
   ],
   "source": [
    "# %%\n",
    "import matplotlib\n",
    "from matplotlib import pyplot as plt\n",
    "import tensorflow as tf\n",
    "from tensorflow import keras\n",
    "from tensorflow.keras import datasets, layers, optimizers\n",
    "import os\n",
    "\n",
    "os.environ['TF_CPP_MIN_LOG_LEVEL'] = '2'\n",
    "print(tf.__version__)\n",
    "\n",
    "\n",
    "def preprocess(x, y):\n",
    "    \"\"\" 调用此函数会自动传入 x,y对象，shape 为【b,28,28】\n",
    "\n",
    "    :param x:\n",
    "    :param y:\n",
    "    :return:\n",
    "    \"\"\"\n",
    "    # [b, 28, 28], [b]\n",
    "    print(x.shape, y.shape)\n",
    "    x = tf.cast(x, dtype=tf.float32) / 255.  # 标准化到0-1\n",
    "    x = tf.reshape(x, [-1, 28 * 28])  # 打平\n",
    "    y = tf.cast(y, dtype=tf.int32)  # 转成整形张量\n",
    "    y = tf.one_hot(y, depth=10)   # one-hot编码\n",
    "\n",
    "    return x, y\n",
    "\n",
    "\n",
    "# %%\n",
    "(x, y), (x_test, y_test) = datasets.mnist.load_data()\n",
    "print('x:', x.shape, 'y:', y.shape, 'x test:', x_test.shape, 'y test:', y_test)\n",
    "# %%\n",
    "batchsz = 512\n",
    "train_db = tf.data.Dataset.from_tensor_slices((x, y))\n",
    "train_db = train_db.shuffle(1000)  # 保证每个epoch 数据都是随机的\n",
    "train_db = train_db.batch(batchsz)\n",
    "train_db = train_db.map(preprocess)\n",
    "train_db = train_db.repeat(2)  # 20个epoch\n",
    "\n",
    "# %%\n",
    "\n",
    "test_db = tf.data.Dataset.from_tensor_slices((x_test, y_test))\n",
    "test_db = test_db.shuffle(1000).batch(batchsz).map(preprocess)\n",
    "x, y = next(iter(train_db))\n",
    "print('train sample:', x.shape, y.shape)\n",
    "\n",
    "\n",
    "# print(x[0], y[0])\n",
    "\n",
    "\n",
    "# %%\n",
    "def main():\n",
    "    # learning rate\n",
    "    lr = 1e-2\n",
    "    accs, losses = [], []\n",
    "\n",
    "    # 784 => 512\n",
    "    w1, b1 = tf.Variable(tf.random.normal([784, 256], stddev=0.1)), tf.Variable(tf.zeros([256]))\n",
    "    # 512 => 256\n",
    "    w2, b2 = tf.Variable(tf.random.normal([256, 128], stddev=0.1)), tf.Variable(tf.zeros([128]))\n",
    "    # 256 => 10\n",
    "    w3, b3 = tf.Variable(tf.random.normal([128, 10], stddev=0.1)), tf.Variable(tf.zeros([10]))\n",
    "\n",
    "    for step, (x, y) in enumerate(train_db):\n",
    "        with tf.GradientTape() as tape:\n",
    "\n",
    "            # layer1.\n",
    "            h1 = x @ w1 + b1\n",
    "            h1 = tf.nn.relu(h1)\n",
    "            # layer2\n",
    "            h2 = h1 @ w2 + b2\n",
    "            h2 = tf.nn.relu(h2)\n",
    "            # output\n",
    "            out = h2 @ w3 + b3\n",
    "            # out = tf.nn.relu(out)\n",
    "\n",
    "            # compute loss\n",
    "            # [b, 10] - [b, 10]\n",
    "            loss = tf.square(y - out)\n",
    "            # [b, 10] => scalar\n",
    "            loss = tf.reduce_mean(loss)\n",
    "\n",
    "        grads = tape.gradient(loss, [w1, b1, w2, b2, w3, b3])\n",
    "        for p, g in zip([w1, b1, w2, b2, w3, b3], grads):\n",
    "            p.assign_sub(lr * g)\n",
    "\n",
    "        # print\n",
    "        if step % 80 == 0:\n",
    "            print(step, 'loss:', float(loss))\n",
    "            losses.append(float(loss))\n",
    "\n",
    "        if step % 80 == 0:\n",
    "            # evaluate/test\n",
    "            total, total_correct = 0., 0\n",
    "\n",
    "            for x, y in test_db:\n",
    "                # layer1.\n",
    "                h1 = x @ w1 + b1\n",
    "                h1 = tf.nn.relu(h1)\n",
    "                # layer2\n",
    "                h2 = h1 @ w2 + b2\n",
    "                h2 = tf.nn.relu(h2)\n",
    "                # output\n",
    "                out = h2 @ w3 + b3\n",
    "                # [b, 10] => [b]\n",
    "                pred = tf.argmax(out, axis=1)\n",
    "                # convert one_hot y to number y\n",
    "                y = tf.argmax(y, axis=1)\n",
    "                # bool type\n",
    "                correct = tf.equal(pred, y)\n",
    "                # bool tensor => int tensor => numpy\n",
    "                total_correct += tf.reduce_sum(tf.cast(correct, dtype=tf.int32)).numpy()\n",
    "                total += x.shape[0]\n",
    "\n",
    "            print(step, 'Evaluate Acc:', total_correct / total)\n",
    "\n",
    "            accs.append(total_correct / total)\n",
    "\n",
    "    plt.figure()\n",
    "    x = [i * 80 for i in range(len(losses))]\n",
    "    plt.plot(x, losses, marker='s', label='train')\n",
    "    plt.ylabel('MSE')\n",
    "    plt.xlabel('Step')\n",
    "    plt.legend()\n",
    "    # plt.savefig('train.svg')\n",
    "    plt.show()\n",
    "\n",
    "    plt.figure()\n",
    "    plt.plot(x, accs, marker='s', label='test')\n",
    "    plt.ylabel('accurate rate')\n",
    "    plt.xlabel('Step')\n",
    "    plt.legend()\n",
    "    # plt.savefig('test.svg')\n",
    "    plt.show()\n",
    "\n",
    "\n",
    "if __name__ == '__main__':\n",
    "    main()"
   ]
  }
 ],
 "metadata": {
  "kernelspec": {
   "display_name": "Python 3",
   "language": "python",
   "name": "python3"
  },
  "language_info": {
   "codemirror_mode": {
    "name": "ipython",
    "version": 3
   },
   "file_extension": ".py",
   "mimetype": "text/x-python",
   "name": "python",
   "nbconvert_exporter": "python",
   "pygments_lexer": "ipython3",
   "version": "3.7.6"
  }
 },
 "nbformat": 4,
 "nbformat_minor": 4
}
