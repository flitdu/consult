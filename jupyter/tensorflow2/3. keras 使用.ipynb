{
 "cells": [
  {
   "cell_type": "code",
   "execution_count": 1,
   "metadata": {},
   "outputs": [
    {
     "name": "stdout",
     "output_type": "stream",
     "text": [
      "tf.Tensor(\n",
      "[[0.        1.3153355]\n",
      " [0.        0.       ]], shape=(2, 2), dtype=float32)\n",
      "Model: \"sequential\"\n",
      "_________________________________________________________________\n",
      "Layer (type)                 Output Shape              Param #   \n",
      "=================================================================\n",
      "dense (Dense)                multiple                  15        \n",
      "_________________________________________________________________\n",
      "re_lu (ReLU)                 multiple                  0         \n",
      "_________________________________________________________________\n",
      "dense_1 (Dense)              multiple                  8         \n",
      "_________________________________________________________________\n",
      "re_lu_1 (ReLU)               multiple                  0         \n",
      "=================================================================\n",
      "Total params: 23\n",
      "Trainable params: 23\n",
      "Non-trainable params: 0\n",
      "_________________________________________________________________\n",
      "None\n"
     ]
    }
   ],
   "source": [
    "import tensorflow as tf\n",
    "from tensorflow.keras import layers\n",
    "from tensorflow.keras import Sequential\n",
    "\n",
    "network = Sequential([\n",
    "    layers.Dense(3, activation=None),\n",
    "    layers.ReLU(),\n",
    "    layers.Dense(2, activation=None),\n",
    "    layers.ReLU()\n",
    "    ])\n",
    "x = tf.random.normal([2,4])  # batch_size, input_dim)`.\n",
    "\n",
    "print(network(x))  # 输入从第一层开始，逐层传播至最末层\n",
    "print(network.summary())\n"
   ]
  },
  {
   "cell_type": "markdown",
   "metadata": {},
   "source": [
    "- 注意参数量的计算\n",
    "\n",
    "15= 4*3+3\n",
    "\n",
    "8 = 3*2+2"
   ]
  },
  {
   "cell_type": "code",
   "execution_count": 2,
   "metadata": {},
   "outputs": [
    {
     "name": "stdout",
     "output_type": "stream",
     "text": [
      "Model: \"sequential_1\"\n",
      "_________________________________________________________________\n",
      "Layer (type)                 Output Shape              Param #   \n",
      "=================================================================\n",
      "dense_2 (Dense)              multiple                  15        \n",
      "_________________________________________________________________\n",
      "re_lu_2 (ReLU)               multiple                  0         \n",
      "_________________________________________________________________\n",
      "dense_3 (Dense)              multiple                  12        \n",
      "_________________________________________________________________\n",
      "re_lu_3 (ReLU)               multiple                  0         \n",
      "=================================================================\n",
      "Total params: 27\n",
      "Trainable params: 27\n",
      "Non-trainable params: 0\n",
      "_________________________________________________________________\n",
      "None\n"
     ]
    }
   ],
   "source": [
    "# 也可以通过 add()方法\n",
    "layers_num=2  # 堆叠两次\n",
    "network = Sequential([])\n",
    "for _ in range(layers_num):\n",
    "    network.add(layers.Dense(3))\n",
    "    network.add(layers.ReLU())\n",
    "network.build(input_shape=(None, 4))\n",
    "print(network.summary())"
   ]
  },
  {
   "cell_type": "code",
   "execution_count": 4,
   "metadata": {},
   "outputs": [
    {
     "name": "stdout",
     "output_type": "stream",
     "text": [
      "dense_2/kernel:0 (4, 3)\n",
      "dense_2/bias:0 (3,)\n",
      "dense_3/kernel:0 (3, 3)\n",
      "dense_3/bias:0 (3,)\n"
     ]
    }
   ],
   "source": [
    "# 打印网络的待优化参数名\n",
    "for p in network.trainable_variables:\n",
    "    print(p.name, p.shape)"
   ]
  },
  {
   "cell_type": "markdown",
   "metadata": {},
   "source": [
    "## 模型装配、训练与测试"
   ]
  },
  {
   "cell_type": "code",
   "execution_count": 16,
   "metadata": {},
   "outputs": [
    {
     "name": "stdout",
     "output_type": "stream",
     "text": [
      "Model: \"sequential_4\"\n",
      "_________________________________________________________________\n",
      "Layer (type)                 Output Shape              Param #   \n",
      "=================================================================\n",
      "dense_14 (Dense)             multiple                  200960    \n",
      "_________________________________________________________________\n",
      "dense_15 (Dense)             multiple                  32896     \n",
      "_________________________________________________________________\n",
      "dense_16 (Dense)             multiple                  8256      \n",
      "_________________________________________________________________\n",
      "dense_17 (Dense)             multiple                  2080      \n",
      "_________________________________________________________________\n",
      "dense_18 (Dense)             multiple                  330       \n",
      "=================================================================\n",
      "Total params: 244,522\n",
      "Trainable params: 244,522\n",
      "Non-trainable params: 0\n",
      "_________________________________________________________________\n"
     ]
    }
   ],
   "source": [
    "\n",
    "\n",
    "# 创建5层的全连接层网络\n",
    "network = Sequential([layers.Dense(256, activation='relu'),\n",
    "                      layers.Dense(128, activation='relu'), \n",
    "                      layers.Dense(64, activation='relu'), \n",
    "                      layers.Dense(32, activation='relu'), \n",
    "                      layers.Dense(10)])\n",
    "network.build(input_shape=(None, 28*28)) \n",
    "network.summary()"
   ]
  },
  {
   "cell_type": "code",
   "execution_count": 7,
   "metadata": {},
   "outputs": [
    {
     "data": {
      "text/plain": [
       "32896"
      ]
     },
     "execution_count": 7,
     "metadata": {},
     "output_type": "execute_result"
    }
   ],
   "source": [
    "28*28*256+256\n",
    "257*128"
   ]
  },
  {
   "cell_type": "code",
   "execution_count": 17,
   "metadata": {},
   "outputs": [],
   "source": [
    "# 损失函数\n",
    "from tensorflow.keras import optimizers, losses\n",
    "# 采用Adam优化器，学习率为0.01;采用交叉熵损失函数，包含Softmax \n",
    "network.compile(optimizer=optimizers.Adam(lr=0.01),\n",
    "                loss=losses.CategoricalCrossentropy(from_logits=True),\n",
    "                metrics=['accuracy'] # 设置测量指标为准确率\n",
    "               )"
   ]
  },
  {
   "cell_type": "code",
   "execution_count": null,
   "metadata": {},
   "outputs": [],
   "source": [
    "# 模型训练\n",
    "# 指定训练集为train_db，验证集为val_db,训练5个epochs，每2个epoch验证一次 \n",
    "# 返回训练信息保存在history中\n",
    "from tensorflow.keras import datasets\n",
    "(x, y), (x_val, y_val) = datasets.mnist.load_data()\n",
    "train_db = tf.data.Dataset.from_tensor_slices((x,y))\n",
    "val_db = tf.data.Dataset.from_tensor_slices((x_val,y_val))\n",
    "\n",
    "validation_data = tf.data.Dataset.from_tensor_slices((x_val, y_val))\n",
    "\n",
    "history = network.fit(train_db, epochs=5, validation_data=val_db, validation_freq=2)\n",
    "\n",
    "history.history"
   ]
  },
  {
   "cell_type": "code",
   "execution_count": null,
   "metadata": {},
   "outputs": [],
   "source": [
    "# 模型测试\n",
    "x,y= next(iter(db_test))\n",
    "print('predict x:', x.shape)\n",
    "out=network.predict(x)  # 模型预测\n",
    "\n"
   ]
  },
  {
   "cell_type": "markdown",
   "metadata": {},
   "source": [
    "## 模型保存与加载"
   ]
  },
  {
   "cell_type": "markdown",
   "metadata": {},
   "source": [
    "### 1.张量方式\n",
    "model.save_weights(path)"
   ]
  },
  {
   "cell_type": "code",
   "execution_count": null,
   "metadata": {},
   "outputs": [],
   "source": [
    "# 保存模型参数到文件上\n",
    "network.save_weights('weights.ckpt') \n",
    "print('saved weights.')\n",
    "del network # 删除网络对象\n",
    "\n",
    "# 重新创建相同的网络结构\n",
    "network = Sequential([layers.Dense(256, activation='relu'),\n",
    "                      layers.Dense(128, activation='relu'),\n",
    "                      layers.Dense(64, activation='relu'), \n",
    "                      layers.Dense(32, activation='relu'), \n",
    "                      layers.Dense(10)])\n",
    "network.compile(optimizer=optimizers.Adam(lr=0.01),\n",
    "                loss=tf.losses.CategoricalCrossentropy(from_logits=True),\n",
    "                metrics=['accuracy']\n",
    "               )\n",
    "# 从参数文件中读取数据并写入当前网络\n",
    "network.load_weights('weights.ckpt')\n",
    "print('loaded weights!')"
   ]
  },
  {
   "cell_type": "markdown",
   "metadata": {},
   "source": [
    "### 2. 网络方式"
   ]
  },
  {
   "cell_type": "code",
   "execution_count": 19,
   "metadata": {},
   "outputs": [
    {
     "name": "stdout",
     "output_type": "stream",
     "text": [
      "saved total model.\n"
     ]
    }
   ],
   "source": [
    "# 直接加载\n",
    "# 保存模型结构与模型参数到文件 \n",
    "network.save('model.h5') \n",
    "print('saved total model.')\n",
    "del network # 删除网络对象\n",
    "\n",
    "# 从文件恢复网络结构与网络参数\n",
    "network = tf.keras.models.load_model('model.h5')"
   ]
  },
  {
   "cell_type": "markdown",
   "metadata": {},
   "source": [
    "### 3. SaveModel 方式"
   ]
  },
  {
   "cell_type": "code",
   "execution_count": null,
   "metadata": {},
   "outputs": [],
   "source": [
    "# 当需要将模型部署到其他平台时，采用此方式更具有平台无关性\n",
    "# 保存模型结构与模型参数到文件\n",
    "tf.keras.experimental.export_saved_model(network, 'model-savedmodel')\n",
    "print('export saved model.')\n",
    "del network # 删除网络对象\n",
    "\n",
    "\n",
    "# 从文件恢复网络结构与网络参数\n",
    "network = tf.keras.experimental.load_from_saved_model('model-savedmodel')"
   ]
  },
  {
   "cell_type": "code",
   "execution_count": null,
   "metadata": {},
   "outputs": [],
   "source": []
  }
 ],
 "metadata": {
  "kernelspec": {
   "display_name": "Python 3",
   "language": "python",
   "name": "python3"
  },
  "language_info": {
   "codemirror_mode": {
    "name": "ipython",
    "version": 3
   },
   "file_extension": ".py",
   "mimetype": "text/x-python",
   "name": "python",
   "nbconvert_exporter": "python",
   "pygments_lexer": "ipython3",
   "version": "3.7.6"
  }
 },
 "nbformat": 4,
 "nbformat_minor": 4
}
