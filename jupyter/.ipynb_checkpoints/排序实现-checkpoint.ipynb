{
 "cells": [
  {
   "cell_type": "code",
   "execution_count": null,
   "metadata": {},
   "outputs": [],
   "source": []
  },
  {
   "cell_type": "code",
   "execution_count": 2,
   "metadata": {},
   "outputs": [
    {
     "name": "stdout",
     "output_type": "stream",
     "text": [
      "0*1*2*3*4*[7, 9, 4, 2, 8, 1]\n",
      "0*1*2*3*[9, 7, 4, 8, 2, 1]\n",
      "0*1*2*[9, 7, 8, 4, 2, 1]\n",
      "0*1*[9, 8, 7, 4, 2, 1]\n",
      "0*[9, 8, 7, 4, 2, 1]\n"
     ]
    },
    {
     "data": {
      "text/plain": [
       "[9, 8, 7, 4, 2, 1]"
      ]
     },
     "execution_count": 2,
     "metadata": {},
     "output_type": "execute_result"
    }
   ],
   "source": [
    "\"\"\"\n",
    "冒泡排序\n",
    "\n",
    "原始：4 7 9 2 1 8\n",
    "\n",
    "第一趟： 7 9 4 2 8 1   比较到【5】, 6-1\n",
    "第二趟： 9 7 4 8 2 1   比较到【4】, 6-2\n",
    "....\n",
    "第五趟： 9 8 7 4 2 1   比较到【1】\n",
    "\n",
    "\"\"\"\n",
    "\n",
    "li = [4, 7, 9, 2, 1, 8]\n",
    "leng = len(li)\n",
    "for i in range(1,leng):  # 比较趟数\n",
    "    for j in range(leng-i):\n",
    "        print(j, end='*')\n",
    "        if li[j]<li[j+1]:\n",
    "            li[j], li[j+1] = li[j+1], li[j]  # 交换元素\n",
    "    print(li)\n",
    "li"
   ]
  },
  {
   "cell_type": "code",
   "execution_count": 23,
   "metadata": {},
   "outputs": [
    {
     "name": "stdout",
     "output_type": "stream",
     "text": [
      "0*1*2*3*4*[7, 9, 8, 4, 2, 1]\n",
      "0*1*2*3*[9, 8, 7, 4, 2, 1]\n",
      "0*1*2*"
     ]
    },
    {
     "data": {
      "text/plain": [
       "[9, 8, 7, 4, 2, 1]"
      ]
     },
     "execution_count": 23,
     "metadata": {},
     "output_type": "execute_result"
    }
   ],
   "source": [
    "# 优化：\n",
    "# 如果某次冒泡操作没有数据交换，则有序，直接退出\n",
    "li = [4, 7, 9, 8, 2, 1]\n",
    "leng = len(li)\n",
    "\n",
    "for i in range(1,leng):  # 比较趟数\n",
    "    tag=1\n",
    "    for j in range(leng-i):\n",
    "        print(j, end='*')\n",
    "        if li[j]<li[j+1]:\n",
    "            li[j], li[j+1] = li[j+1], li[j]  # 交换元素\n",
    "            tag = 0\n",
    "    if tag: break\n",
    "    print(li)\n",
    "li\n"
   ]
  },
  {
   "cell_type": "code",
   "execution_count": 4,
   "metadata": {},
   "outputs": [
    {
     "name": "stdout",
     "output_type": "stream",
     "text": [
      "[72, 4, 14, 61, 40, 72, 61, 85, 38, 50]\n",
      "[85, 72, 72, 61, 61, 50, 40, 38, 14, 4]\n"
     ]
    }
   ],
   "source": [
    "import random\n",
    "# 封装函数\n",
    "def bubble_sort(li):\n",
    "    n = len(li)\n",
    "    for i in range(1,n):  # 比较趟数\n",
    "        tag = 1\n",
    "        for j in range(n-i):\n",
    "            if li[j]<li[j+1]:\n",
    "                li[j], li[j+1] = li[j+1], li[j]  # 交换元素\n",
    "                tag = 0\n",
    "        if tag: break\n",
    "li = [random.randint(0,100) for i in range(10)]\n",
    "print(li)\n",
    "bubble_sort(li)\n",
    "print(li)"
   ]
  },
  {
   "cell_type": "code",
   "execution_count": null,
   "metadata": {},
   "outputs": [],
   "source": []
  }
 ],
 "metadata": {
  "kernelspec": {
   "display_name": "Python 3",
   "language": "python",
   "name": "python3"
  },
  "language_info": {
   "codemirror_mode": {
    "name": "ipython",
    "version": 3
   },
   "file_extension": ".py",
   "mimetype": "text/x-python",
   "name": "python",
   "nbconvert_exporter": "python",
   "pygments_lexer": "ipython3",
   "version": "3.7.6"
  }
 },
 "nbformat": 4,
 "nbformat_minor": 4
}
