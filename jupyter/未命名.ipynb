{
 "cells": [
  {
   "cell_type": "code",
   "execution_count": 17,
   "metadata": {},
   "outputs": [
    {
     "name": "stdout",
     "output_type": "stream",
     "text": [
      "Model: \"sequential_4\"\n",
      "_________________________________________________________________\n",
      "Layer (type)                 Output Shape              Param #   \n",
      "=================================================================\n",
      "conv2d_6 (Conv2D)            multiple                  60        \n",
      "_________________________________________________________________\n",
      "max_pooling2d_6 (MaxPooling2 multiple                  0         \n",
      "_________________________________________________________________\n",
      "re_lu_6 (ReLU)               multiple                  0         \n",
      "_________________________________________________________________\n",
      "conv2d_7 (Conv2D)            multiple                  880       \n",
      "_________________________________________________________________\n",
      "max_pooling2d_7 (MaxPooling2 multiple                  0         \n",
      "_________________________________________________________________\n",
      "re_lu_7 (ReLU)               multiple                  0         \n",
      "_________________________________________________________________\n",
      "flatten_3 (Flatten)          multiple                  0         \n",
      "_________________________________________________________________\n",
      "dense_13 (Dense)             multiple                  48120     \n",
      "_________________________________________________________________\n",
      "dense_14 (Dense)             multiple                  10164     \n",
      "_________________________________________________________________\n",
      "dense_15 (Dense)             multiple                  850       \n",
      "=================================================================\n",
      "Total params: 60,074\n",
      "Trainable params: 60,074\n",
      "Non-trainable params: 0\n",
      "_________________________________________________________________\n"
     ]
    }
   ],
   "source": [
    "from tensorflow.keras import Sequential,layers\n",
    "\n",
    "network = Sequential([ # 网络容器\n",
    "    layers.Conv2D(6,kernel_size=3,strides=1), # 第一个卷积层, 6个3x3卷积核 \n",
    "    layers.MaxPooling2D(pool_size=2,strides=2), # 高宽各减半的池化层\n",
    "    layers.ReLU(), # 激活函数\n",
    "    layers.Conv2D(16,kernel_size=3,strides=1), # 第二个卷积层, 16个3x3卷积核\n",
    "    layers.MaxPooling2D(pool_size=2,strides=2), # 高宽各减半的池化层 \n",
    "    layers.ReLU(), # 激活函数\n",
    "    layers.Flatten(), # 打平层，方便全连接层处理\n",
    "    layers.Dense(120, activation='relu'), # 全连接层，120个节点\n",
    "    layers.Dense(84, activation='relu'), # 全连接层，84节点 \n",
    "    layers.Dense(10) # 全连接层，10个节点\n",
    "])\n",
    "network.build(input_shape=(4,28,28,1))\n",
    "# 统计网络信息\n",
    "network.summary()"
   ]
  },
  {
   "cell_type": "code",
   "execution_count": 7,
   "metadata": {},
   "outputs": [
    {
     "data": {
      "text/plain": [
       "<tf.Tensor: shape=(2, 2, 3), dtype=int32, numpy=\n",
       "array([[[9, 7, 4],\n",
       "        [7, 1, 7]],\n",
       "\n",
       "       [[4, 8, 5],\n",
       "        [5, 9, 2]]], dtype=int32)>"
      ]
     },
     "execution_count": 7,
     "metadata": {},
     "output_type": "execute_result"
    }
   ],
   "source": [
    "import tensorflow as tf\n",
    "x =tf.random.uniform([2,2,3], maxval=10, dtype=tf.int32)\n",
    "x"
   ]
  },
  {
   "cell_type": "code",
   "execution_count": 6,
   "metadata": {},
   "outputs": [
    {
     "name": "stdout",
     "output_type": "stream",
     "text": [
      "hello world\n",
      "tf.Tensor(b'hello world', shape=(), dtype=string)\n"
     ]
    }
   ],
   "source": [
    "import tensorflow as tf\n",
    "\n",
    "# 使用autograph构建静态图\n",
    "\n",
    "@tf.function\n",
    "def strjoin(x,y):\n",
    "    z =  tf.strings.join([x,y],separator = \" \")\n",
    "    tf.print(z)\n",
    "    return z\n",
    "\n",
    "result = strjoin(tf.constant(\"hello\"),tf.constant(\"world\"))\n",
    "\n",
    "print(result)"
   ]
  },
  {
   "cell_type": "code",
   "execution_count": 23,
   "metadata": {},
   "outputs": [
    {
     "name": "stdout",
     "output_type": "stream",
     "text": [
      "data/autograph/20210818-230301\n",
      "hello world\n"
     ]
    }
   ],
   "source": [
    "import datetime\n",
    "\n",
    "# 创建日志\n",
    "import os\n",
    "stamp = datetime.datetime.now().strftime(\"%Y%m%d-%H%M%S\")\n",
    "logdir = os.path.join('data', 'autograph', stamp)\n",
    "print(logdir)\n",
    "\n",
    "## 在 Python3 下建议使用 pathlib 修正各操作系统的路径\n",
    "# from pathlib import Path\n",
    "# stamp = datetime.datetime.now().strftime(\"%Y%m%d-%H%M%S\")\n",
    "# logdir = str(Path('../../data/autograph/' + stamp))\n",
    "\n",
    "writer = tf.summary.create_file_writer(logdir)\n",
    "\n",
    "#开启autograph跟踪\n",
    "tf.summary.trace_on(graph=True, profiler=True) \n",
    "\n",
    "#执行autograph\n",
    "result = strjoin(\"hello\",\"world\")\n",
    "\n",
    "#将计算图信息写入日志\n",
    "with writer.as_default():\n",
    "    tf.summary.trace_export(\n",
    "        name=\"autograph\",\n",
    "        step=0,\n",
    "        profiler_outdir=logdir)"
   ]
  },
  {
   "cell_type": "code",
   "execution_count": 28,
   "metadata": {},
   "outputs": [],
   "source": [
    "import tensorflow as tf\n",
    "\n",
    "#打印时间分割线\n",
    "@tf.function\n",
    "def printbar():\n",
    "    today_ts = tf.timestamp()%(24*60*60)\n",
    "\n",
    "    hour = tf.cast(today_ts//3600+8,tf.int32)%tf.constant(24)\n",
    "    minite = tf.cast((today_ts%3600)//60,tf.int32)\n",
    "    second = tf.cast(tf.floor(today_ts%60),tf.int32)\n",
    "\n",
    "    def timeformat(m):\n",
    "        if tf.strings.length(tf.strings.format(\"{}\",m))==1:\n",
    "            return(tf.strings.format(\"0{}\",m))\n",
    "        else:\n",
    "            return(tf.strings.format(\"{}\",m))\n",
    "\n",
    "    timestring = tf.strings.join([timeformat(hour),timeformat(minite),\n",
    "                timeformat(second)],separator = \":\")\n",
    "    tf.print(\"==========\"*8+timestring)"
   ]
  },
  {
   "cell_type": "code",
   "execution_count": 9,
   "metadata": {},
   "outputs": [
    {
     "data": {
      "text/plain": [
       "['IC',\n",
       " 'Interface IC+SP485EEN',\n",
       " 'L',\n",
       " 'TR+MAXLINEAR+4.75',\n",
       " '5.25V+',\n",
       " '40℃',\n",
       " '85℃+RS',\n",
       " '485+SOIC',\n",
       " '8N+ROHS']"
      ]
     },
     "execution_count": 9,
     "metadata": {},
     "output_type": "execute_result"
    }
   ],
   "source": [
    "import re\n",
    "block = 'IC/Interface IC+SP485EEN-L/TR+MAXLINEAR+4.75-5.25V+-40℃-85℃+RS-485+SOIC-8N+ROHS'\n",
    "if bool(re.search(r'/|-|_|,|\\+/-|\\+|±', block)):\n",
    "    para_list = re.split(r\"/|-|_|,|\\+/-|\\+|±\", block)  \n",
    "para_list"
   ]
  },
  {
   "cell_type": "code",
   "execution_count": 15,
   "metadata": {},
   "outputs": [
    {
     "name": "stdout",
     "output_type": "stream",
     "text": [
      "平均值为：79.875000\n",
      "方差为：63.859375\n",
      "总体标准差为: 7.991206\n"
     ]
    }
   ],
   "source": [
    "import numpy as np \n",
    "arr = [75, 81, 69,70,92,84, 78,90]\n",
    " \n",
    "# 求均值\n",
    "arr_mean = np.mean(arr)\n",
    " \n",
    "# 求方差\n",
    "arr_var = np.var(arr)\n",
    " \n",
    "# 求总体标准差\n",
    "arr_std_1 = np.std(arr)\n",
    " \n",
    "\n",
    " \n",
    "print(\"平均值为：%f\" % arr_mean)\n",
    "print(\"方差为：%f\" % arr_var)\n",
    "print(\"总体标准差为: %f\" % arr_std_1)\n"
   ]
  }
 ],
 "metadata": {
  "kernelspec": {
   "display_name": "Python 3",
   "language": "python",
   "name": "python3"
  },
  "language_info": {
   "codemirror_mode": {
    "name": "ipython",
    "version": 3
   },
   "file_extension": ".py",
   "mimetype": "text/x-python",
   "name": "python",
   "nbconvert_exporter": "python",
   "pygments_lexer": "ipython3",
   "version": "3.7.6"
  }
 },
 "nbformat": 4,
 "nbformat_minor": 4
}
